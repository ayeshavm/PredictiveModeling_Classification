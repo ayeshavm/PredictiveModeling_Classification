{
 "cells": [
  {
   "cell_type": "markdown",
   "metadata": {},
   "source": [
    "# Petfinder.my Adoption Prediction\n",
    "How cute is that doggy in the shelter?\n",
    "\n",
    "## Competition Description:\n",
    "\n",
    "Millions of stray animals suffer on the streets or are euthanized in shelters every day around the world. If homes can be found for them, many precious lives can be saved — and more happy families created.\n",
    "\n",
    "PetFinder.my has been Malaysia’s leading animal welfare platform since 2008, with a database of more than 150,000 animals. PetFinder collaborates closely with animal lovers, media, corporations, and global organizations to improve animal welfare.\n",
    "\n",
    "Animal adoption rates are strongly correlated to the metadata associated with their online profiles, such as descriptive text and photo characteristics. As one example, PetFinder is currently experimenting with a simple AI tool called the Cuteness Meter, which ranks how cute a pet is based on qualities present in their photos.\n",
    "\n",
    "In this competition you will be developing algorithms to predict the adoptability of pets - specifically, how quickly is a pet adopted? If successful, they will be adapted into AI tools that will guide shelters and rescuers around the world on improving their pet profiles' appeal, reducing animal suffering and euthanization.\n",
    "\n",
    "Top participants may be invited to collaborate on implementing their solutions into AI tools for assessing and improving pet adoption performance, which will benefit global animal welfare."
   ]
  },
  {
   "cell_type": "markdown",
   "metadata": {},
   "source": [
    "## Objective:\n",
    "you will predict the speed at which a pet is adopted, based on the pet’s listing on PetFinder. Sometimes a profile represents a group of pets. In this case, the speed of adoption is determined by the speed at which all of the pets are adopted. The data included text, tabular, and image data. See below for details. \n",
    "\n",
    "#### AdoptionSpeed\n",
    "\n",
    "Contestants are required to predict this value. The value is determined by how quickly, if at all, a pet is adopted. The values are determined in the following way: \n",
    "<br>0 - Pet was adopted on the same day as it was listed. \n",
    "<br>1 - Pet was adopted between 1 and 7 days (1st week) after being listed. \n",
    "<br>2 - Pet was adopted between 8 and 30 days (1st month) after being listed. \n",
    "<br>3 - Pet was adopted between 31 and 90 days (2nd & 3rd month) after being listed. \n",
    "<br>4 - No adoption after 100 days of being listed. (There are no pets in this dataset that waited between 90 and 100 days).\n",
    "\n",
    "\n",
    "\n",
    "__File descriptions:__\n",
    "<br>train.csv - Tabular/text data for the training set\n",
    "<br>test.csv - Tabular/text data for the test set\n",
    "<br>sample_submission.csv - A sample submission file in the correct format\n",
    "<br>breed_labels.csv - Contains Type, and BreedName for each BreedID. Type 1 is dog, 2 is cat.\n",
    "<br>color_labels.csv - Contains ColorName for each ColorID\n",
    "<br>state_labels.csv - Contains StateName for each StateID\n",
    "\n",
    "\n",
    "Data Fields\n",
    "\n",
    "- PetID - Unique hash ID of pet profile\n",
    "- AdoptionSpeed - Categorical speed of adoption. Lower is faster. This is the value to predict. See below section for more info.\n",
    "- Type - Type of animal (1 = Dog, 2 = Cat)\n",
    "- Name - Name of pet (Empty if not named)\n",
    "- Age - Age of pet when listed, in months\n",
    "- Breed1 - Primary breed of pet (Refer to BreedLabels dictionary)\n",
    "- Breed2 - Secondary breed of pet, if pet is of mixed breed (Refer to BreedLabels dictionary)\n",
    "- Gender - Gender of pet (1 = Male, 2 = Female, 3 = Mixed, if profile represents group of pets)\n",
    "- Color1 - Color 1 of pet (Refer to ColorLabels dictionary)\n",
    "- Color2 - Color 2 of pet (Refer to ColorLabels dictionary)\n",
    "- Color3 - Color 3 of pet (Refer to ColorLabels dictionary)\n",
    "- MaturitySize - Size at maturity (1 = Small, 2 = Medium, 3 = Large, 4 = Extra Large, 0 = Not Specified)\n",
    "- FurLength - Fur length (1 = Short, 2 = Medium, 3 = Long, 0 = Not Specified)\n",
    "- Vaccinated - Pet has been vaccinated (1 = Yes, 2 = No, 3 = Not Sure)\n",
    "- Dewormed - Pet has been dewormed (1 = Yes, 2 = No, 3 = Not Sure)\n",
    "- Sterilized - Pet has been spayed / neutered (1 = Yes, 2 = No, 3 = Not Sure)\n",
    "- Health - Health Condition (1 = Healthy, 2 = Minor Injury, 3 = Serious Injury, 0 = Not Specified)\n",
    "- Quantity - Number of pets represented in profile\n",
    "- Fee - Adoption fee (0 = Free)\n",
    "- State - State location in Malaysia (Refer to StateLabels dictionary)\n",
    "- RescuerID - Unique hash ID of rescuer\n",
    "- VideoAmt - Total uploaded videos for this pet\n",
    "- PhotoAmt - Total uploaded photos for this pet\n",
    "- Description - Profile write-up for this pet. The primary language used is English, with some in Malay or Chinese."
   ]
  },
  {
   "cell_type": "markdown",
   "metadata": {},
   "source": [
    "### Evaluation:\n",
    "\n",
    "scored based on the quadratic weighted kappa, which measures the agreement between two ratings. This metric typically varies from 0 (random agreement between raters) to 1 (complete agreement between raters). In the event that there is less agreement between the raters than expected by chance, the metric may go below 0. The quadratic weighted kappa is calculated between the scores which are expected/known and the predicted scores.\n",
    "\n",
    "Results have 5 possible ratings, 0,1,2,3,4.  The quadratic weighted kappa is calculated as follows. First, an N x N histogram matrix O is constructed, such that Oi,j corresponds to the number of adoption records that have a rating of i (actual) and received a predicted rating j. An N-by-N matrix of weights, w, is calculated based on the difference between actual and predicted rating scores:\n",
    "\n",
    "$$\\begin{equation*}\n",
    "w_{ij} = \\frac{(i-j)^2}{(N-1)^2}\n",
    "\\end{equation*} $$\n",
    "\n",
    "\n",
    "An N-by-N histogram matrix of expected ratings, E, is calculated, assuming that there is no correlation between rating scores.  This is calculated as the outer product between the actual rating's histogram vector of ratings and the predicted rating's histogram vector of ratings, normalized such that E and O have the same sum.\n",
    "\n",
    "From these three matrices, the quadratic weighted kappa is calculated as: \n",
    "\n",
    "$$\\begin{equation*}\n",
    "\\kappa = 1 - \\frac{\\sum_(w_{ij} O_{ij})}{\\sum_(w_{ij} E_{ij})}\n",
    "\\end{equation*} $$\n",
    "\n"
   ]
  },
  {
   "cell_type": "code",
   "execution_count": 1,
   "metadata": {
    "collapsed": true
   },
   "outputs": [],
   "source": [
    "import pandas as pd\n",
    "import numpy as np\n",
    "\n",
    "import os, json"
   ]
  },
  {
   "cell_type": "code",
   "execution_count": 2,
   "metadata": {
    "collapsed": true
   },
   "outputs": [],
   "source": [
    "pd.options.display.max_columns = 999\n",
    "pd.options.display.max_rows = 999"
   ]
  },
  {
   "cell_type": "code",
   "execution_count": 3,
   "metadata": {
    "collapsed": true
   },
   "outputs": [],
   "source": [
    "#load codes tables\n",
    "\n",
    "breed = pd.read_csv('../data/breed_labels.csv')\n",
    "color = pd.read_csv('../data/color_labels.csv')\n",
    "state = pd.read_csv('../data/state_labels.csv')\n"
   ]
  },
  {
   "cell_type": "code",
   "execution_count": 4,
   "metadata": {
    "collapsed": true
   },
   "outputs": [],
   "source": [
    "train = pd.read_csv('../data/train.csv')"
   ]
  },
  {
   "cell_type": "code",
   "execution_count": 5,
   "metadata": {},
   "outputs": [
    {
     "data": {
      "text/plain": [
       "Index(['Type', 'Name', 'Age', 'Breed1', 'Breed2', 'Gender', 'Color1', 'Color2',\n",
       "       'Color3', 'MaturitySize', 'FurLength', 'Vaccinated', 'Dewormed',\n",
       "       'Sterilized', 'Health', 'Quantity', 'Fee', 'State', 'RescuerID',\n",
       "       'VideoAmt', 'Description', 'PetID', 'PhotoAmt', 'AdoptionSpeed'],\n",
       "      dtype='object')"
      ]
     },
     "execution_count": 5,
     "metadata": {},
     "output_type": "execute_result"
    }
   ],
   "source": [
    "train.columns"
   ]
  },
  {
   "cell_type": "markdown",
   "metadata": {},
   "source": [
    "## Features to add from train dataset\n",
    "- number of colors\n",
    "- pure bred or mixed breed\n",
    "- Description length"
   ]
  },
  {
   "cell_type": "code",
   "execution_count": 6,
   "metadata": {
    "collapsed": true
   },
   "outputs": [],
   "source": [
    "color_cols = ['Color1', 'Color2', 'Color3']"
   ]
  },
  {
   "cell_type": "code",
   "execution_count": 7,
   "metadata": {
    "collapsed": true
   },
   "outputs": [],
   "source": [
    "def set_breed(row):\n",
    "    \"\"\" this function sets the Mixed Breed Indicator for the pet\n",
    "        a dog is set as Mixed Breed if either Breed1 or Breed2 = 370\n",
    "        or both Breed1 and Breed2 is set to some value greater than 0.\n",
    "        A cat is set as Mixed Breed if either Breed1 or Breed2 = 266\n",
    "        or both Breed1 and Breed2 is set to some value greater than 0.\n",
    "    \"\"\"\n",
    "    if (row['Type'] == 'Dog'): \n",
    "        if (((row['Breed1'] == 370) | (row['Breed2'] == 370)) |\n",
    "            ((row['Breed1'] > 0) & (row['Breed2'] > 0))):\n",
    "            return 'Mixed'\n",
    "        else:\n",
    "            return 'Pure'\n",
    "    else: # if 'Cat'\n",
    "        if (((row['Breed1'] == 266) | (row['Breed2'] == 266)) |\n",
    "            ((row['Breed1'] > 0) & (row['Breed2'] > 0))):\n",
    "            return 'Mixed'\n",
    "        else:\n",
    "            return 'Pure'"
   ]
  },
  {
   "cell_type": "code",
   "execution_count": 8,
   "metadata": {
    "collapsed": true
   },
   "outputs": [],
   "source": [
    "def get_desc_len(row):\n",
    "    \"\"\" return length of Pet's profile Description\"\"\"\n",
    "    return len(row['Description'])"
   ]
  },
  {
   "cell_type": "code",
   "execution_count": 9,
   "metadata": {
    "collapsed": true
   },
   "outputs": [],
   "source": [
    "def get_name_len(row):\n",
    "    \"\"\" return length of Pet's Name\"\"\"\n",
    "    return len(row['Name'])"
   ]
  },
  {
   "cell_type": "code",
   "execution_count": 10,
   "metadata": {
    "collapsed": true
   },
   "outputs": [],
   "source": [
    "def get_color_count(row):\n",
    "    \"\"\" return the number of colors of the pet\"\"\"\n",
    "    color_count = 0\n",
    "    \n",
    "    for color in color_cols:\n",
    "        if row[color] > 0:\n",
    "            color_count +=1\n",
    "            \n",
    "    return color_count"
   ]
  },
  {
   "cell_type": "code",
   "execution_count": 11,
   "metadata": {
    "collapsed": true
   },
   "outputs": [],
   "source": [
    "def get_age_cat(row):\n",
    "    \"\"\" return the age category for dogs and cats \"\"\"\n",
    "    if row['Type'] == 'Dog':\n",
    "        if (row['Age'] >= 0) & (row['Age'] < 24):\n",
    "            return 'dog_0_23'\n",
    "        elif (row['Age'] >= 24) & (row['Age'] < 72):\n",
    "            return 'dog_24_71'\n",
    "        elif (row['Age'] >= 72) & (row['Age'] < 120):\n",
    "            return 'dog_72_119'\n",
    "        elif row['Age'] >= 120:\n",
    "            return 'dog_120_above'\n",
    "    else:\n",
    "        if (row['Age'] >= 0) & (row['Age'] < 2):\n",
    "            return 'cat_0_1'\n",
    "        elif (row['Age'] >= 2) & (row['Age'] < 6):\n",
    "            return 'cat_2_5'\n",
    "        elif (row['Age'] >= 6) & (row['Age'] < 12):\n",
    "            return 'cat_6_11'\n",
    "        elif row['Age'] >= 12:\n",
    "            return 'cat_12_above'        "
   ]
  },
  {
   "cell_type": "code",
   "execution_count": 12,
   "metadata": {
    "collapsed": true
   },
   "outputs": [],
   "source": [
    "def process_sentiment(filetype):\n",
    "    \"\"\" This function processes the description sentiment file and creates a sentiment score dataframe.\n",
    "        the filetype (train or test) will be a required parameter\"\"\"\n",
    "    \n",
    "    path_to_json = '../data/{}_sentiment/'.format(filetype)\n",
    "    json_files = [pos_json for pos_json in os.listdir(path_to_json) if pos_json.endswith('.json')]\n",
    "    json_dict = {'pet_id':[],'magnitude':[], 'score':[]}\n",
    "\n",
    "    for index, js in enumerate(json_files):\n",
    "     \n",
    "        with open(os.path.join(path_to_json, js)) as json_file:\n",
    "            json_text = json.load(json_file)\n",
    "            json_dict['pet_id'].append(js.split('.')[0])\n",
    "            json_dict['magnitude'].append(json_text['documentSentiment']['magnitude'])\n",
    "            json_dict['score'].append(json_text['documentSentiment']['score'])\n",
    "            \n",
    "    sentiDF = pd.DataFrame(json_dict)\n",
    "    return sentiDF"
   ]
  },
  {
   "cell_type": "code",
   "execution_count": 13,
   "metadata": {
    "collapsed": true
   },
   "outputs": [],
   "source": [
    "def add_features(df, filetype):\n",
    "    \"\"\" This function adds new features to our dataFrame as part of pre-processing\n",
    "        of train and test data.  The parameter filetype will either be (train or test)\"\"\"\n",
    "    \n",
    "    dfAll = df.copy()\n",
    "\n",
    "    #Handle Missing Values\n",
    "    dfAll['Name'] = dfAll.Name.fillna('').values\n",
    "    dfAll['Description'] = dfAll.Name.fillna('').values\n",
    "    \n",
    "    \n",
    "    #Add Features\n",
    "    dfAll['Name_Ind'] = dfAll['Name'].apply(lambda x: 'withName' if len(x) > 0 else 'noName')\n",
    "    dfAll['Name_Len'] = dfAll.apply(lambda x: get_name_len(x), 1)\n",
    "    dfAll['Type'] = dfAll['Type'].apply(lambda x: 'Dog' if x == 1 else 'Cat')\n",
    "    dfAll['Breed_Ind'] = dfAll.apply(lambda x: set_breed(x), 1)\n",
    "    dfAll['Desc_Len'] = dfAll.apply(lambda x: get_desc_len(x), 1)\n",
    "    dfAll['Color_count'] = dfAll.apply(lambda x: get_color_count(x), 1)\n",
    "    dfAll['health'] = dfAll['Vaccinated'].astype(str) + '_' + dfAll['Dewormed'].astype(str) + '_' + dfAll['Sterilized'].astype(str) + '_' + dfAll['Health'].astype(str)\n",
    "    dfAll['age_cat'] = dfAll.apply(lambda x:get_age_cat(x), 1) \n",
    "\n",
    "    #Get descriptions for the different numeric categorical features\n",
    "    colors_dict = {k: v for k, v in zip(color['ColorID'], color['ColorName'])}\n",
    "    dfAll['Color1_name'] = dfAll['Color1'].apply(lambda x: '_'.join(colors_dict[x].split()) if x in colors_dict else 'Unknown')\n",
    "    dfAll['Color2_name'] = dfAll['Color2'].apply(lambda x: '_'.join(colors_dict[x]) if x in colors_dict else '-')\n",
    "    dfAll['Color3_name'] = dfAll['Color3'].apply(lambda x: '_'.join(colors_dict[x]) if x in colors_dict else '-')\n",
    "    \n",
    "    breeds_dict = {k: v for k, v in zip(breed['BreedID'], breed['BreedName'])}\n",
    "    dfAll['Breed1_name'] = dfAll['Breed1'].apply(lambda x: '_'.join(breeds_dict[x].split()) if x in breeds_dict else 'Unknown')\n",
    "    dfAll['Breed2_name'] = dfAll['Breed2'].apply(lambda x: '_'.join(breeds_dict[x]) if x in breeds_dict else '-')\n",
    "    \n",
    "    \n",
    "    #After all the new columns have been added to the dataframe.  Join dfAll with desc_df to populate\n",
    "    #the dataframe with the description sentiment score\n",
    "    desc_df = process_sentiment(filetype)\n",
    "    desc_df.rename(index=str, columns={'pet_id': 'PetID'}, inplace=True)\n",
    "    dfAll = dfAll.merge(desc_df, on=['PetID'], how='left')\n",
    "    dfAll.fillna(0, inplace=True)\n",
    "    \n",
    "    dfAll['sentiment'] = dfAll.apply(lambda x: x['magnitude'] * x['score'], 1)\n",
    "    \n",
    "    return dfAll"
   ]
  },
  {
   "cell_type": "code",
   "execution_count": null,
   "metadata": {
    "collapsed": true
   },
   "outputs": [],
   "source": []
  },
  {
   "cell_type": "code",
   "execution_count": null,
   "metadata": {
    "collapsed": true
   },
   "outputs": [],
   "source": []
  },
  {
   "cell_type": "code",
   "execution_count": 14,
   "metadata": {
    "collapsed": true
   },
   "outputs": [],
   "source": [
    "#desc_df = pd.read_pickle('../data/out/desc_score.pkl')"
   ]
  },
  {
   "cell_type": "code",
   "execution_count": 15,
   "metadata": {},
   "outputs": [
    {
     "data": {
      "text/plain": [
       "Index(['Type', 'Name', 'Age', 'Breed1', 'Breed2', 'Gender', 'Color1', 'Color2',\n",
       "       'Color3', 'MaturitySize', 'FurLength', 'Vaccinated', 'Dewormed',\n",
       "       'Sterilized', 'Health', 'Quantity', 'Fee', 'State', 'RescuerID',\n",
       "       'VideoAmt', 'Description', 'PetID', 'PhotoAmt', 'AdoptionSpeed'],\n",
       "      dtype='object')"
      ]
     },
     "execution_count": 15,
     "metadata": {},
     "output_type": "execute_result"
    }
   ],
   "source": [
    "train.columns"
   ]
  },
  {
   "cell_type": "code",
   "execution_count": 16,
   "metadata": {
    "collapsed": true
   },
   "outputs": [],
   "source": [
    "dfAll = add_features(train, 'train')"
   ]
  },
  {
   "cell_type": "code",
   "execution_count": 17,
   "metadata": {
    "scrolled": true
   },
   "outputs": [
    {
     "data": {
      "text/plain": [
       "Index(['Type', 'Name', 'Age', 'Breed1', 'Breed2', 'Gender', 'Color1', 'Color2',\n",
       "       'Color3', 'MaturitySize', 'FurLength', 'Vaccinated', 'Dewormed',\n",
       "       'Sterilized', 'Health', 'Quantity', 'Fee', 'State', 'RescuerID',\n",
       "       'VideoAmt', 'Description', 'PetID', 'PhotoAmt', 'AdoptionSpeed',\n",
       "       'Name_Ind', 'Name_Len', 'Breed_Ind', 'Desc_Len', 'Color_count',\n",
       "       'health', 'age_cat', 'Color1_name', 'Color2_name', 'Color3_name',\n",
       "       'Breed1_name', 'Breed2_name', 'magnitude', 'score', 'sentiment'],\n",
       "      dtype='object')"
      ]
     },
     "execution_count": 17,
     "metadata": {},
     "output_type": "execute_result"
    }
   ],
   "source": [
    "dfAll.columns"
   ]
  },
  {
   "cell_type": "code",
   "execution_count": 18,
   "metadata": {},
   "outputs": [
    {
     "data": {
      "text/plain": [
       "Type             0\n",
       "Name             0\n",
       "Age              0\n",
       "Breed1           0\n",
       "Breed2           0\n",
       "Gender           0\n",
       "Color1           0\n",
       "Color2           0\n",
       "Color3           0\n",
       "MaturitySize     0\n",
       "FurLength        0\n",
       "Vaccinated       0\n",
       "Dewormed         0\n",
       "Sterilized       0\n",
       "Health           0\n",
       "Quantity         0\n",
       "Fee              0\n",
       "State            0\n",
       "RescuerID        0\n",
       "VideoAmt         0\n",
       "Description      0\n",
       "PetID            0\n",
       "PhotoAmt         0\n",
       "AdoptionSpeed    0\n",
       "Name_Ind         0\n",
       "Name_Len         0\n",
       "Breed_Ind        0\n",
       "Desc_Len         0\n",
       "Color_count      0\n",
       "health           0\n",
       "age_cat          0\n",
       "Color1_name      0\n",
       "Color2_name      0\n",
       "Color3_name      0\n",
       "Breed1_name      0\n",
       "Breed2_name      0\n",
       "magnitude        0\n",
       "score            0\n",
       "sentiment        0\n",
       "dtype: int64"
      ]
     },
     "execution_count": 18,
     "metadata": {},
     "output_type": "execute_result"
    }
   ],
   "source": [
    "dfAll.isnull().sum()"
   ]
  },
  {
   "cell_type": "code",
   "execution_count": null,
   "metadata": {
    "collapsed": true
   },
   "outputs": [],
   "source": []
  },
  {
   "cell_type": "markdown",
   "metadata": {
    "collapsed": true
   },
   "source": [
    "### Exploratory Data Analysis"
   ]
  },
  {
   "cell_type": "code",
   "execution_count": 19,
   "metadata": {
    "collapsed": true
   },
   "outputs": [],
   "source": [
    "import seaborn as sns\n",
    "import matplotlib.pyplot as plt\n",
    "%matplotlib inline\n",
    "import numpy as np"
   ]
  },
  {
   "cell_type": "code",
   "execution_count": null,
   "metadata": {
    "collapsed": true
   },
   "outputs": [],
   "source": []
  },
  {
   "cell_type": "markdown",
   "metadata": {},
   "source": [
    "NLP description from [Google Cloud](https://cloud.google.com/natural-language/docs/basics)\n",
    "\n",
    "\n",
    "documentSentiment contains the overall sentiment of the document, which consists of the following fields:\n",
    "- __score__: of the sentiment ranges between -1.0 (negative) and 1.0 (positive) and corresponds to the overall emotional leaning of the text.\n",
    "- __magnitude__: indicates the overall strength of emotion (both positive and negative) within the given text, between 0.0 and +inf. Unlike score, magnitude is not normalized; each expression of emotion within the text (both positive and negative) contributes to the text's magnitude (so longer text blocks may have greater magnitudes)."
   ]
  },
  {
   "cell_type": "code",
   "execution_count": 126,
   "metadata": {},
   "outputs": [
    {
     "data": {
      "text/plain": [
       "Index(['Type', 'Name', 'Age', 'Breed1', 'Breed2', 'Gender', 'Color1', 'Color2',\n",
       "       'Color3', 'MaturitySize', 'FurLength', 'Vaccinated', 'Dewormed',\n",
       "       'Sterilized', 'Health', 'Quantity', 'Fee', 'State', 'RescuerID',\n",
       "       'VideoAmt', 'Description', 'PetID', 'PhotoAmt', 'AdoptionSpeed',\n",
       "       'Name_Ind', 'Name_Len', 'Breed_Ind', 'Desc_Len', 'Color_count',\n",
       "       'health', 'age_cat', 'Color1_name', 'Color2_name', 'Color3_name',\n",
       "       'Breed1_name', 'Breed2_name', 'magnitude', 'score', 'sentiment'],\n",
       "      dtype='object')"
      ]
     },
     "execution_count": 126,
     "metadata": {},
     "output_type": "execute_result"
    }
   ],
   "source": [
    "dfAll.columns"
   ]
  },
  {
   "cell_type": "code",
   "execution_count": 133,
   "metadata": {},
   "outputs": [
    {
     "data": {
      "image/png": "[encoded data removed]",
      "text/plain": [
       "<matplotlib.figure.Figure at 0x12750ec18>"
      ]
     },
     "metadata": {},
     "output_type": "display_data"
    }
   ],
   "source": [
    "plt.figure(figsize=(18, 6));\n",
    "sns.boxplot(x=\"AdoptionSpeed\", y=\"Desc_Len\", hue=\"Type\", data=dfAll);\n",
    "plt.title('AdoptionSpeed by Type and description length');\n",
    "fig.tight_layout()\n",
    "plt.savefig('../images/DescLenx_AdoptSpeed.png')"
   ]
  },
  {
   "cell_type": "code",
   "execution_count": 152,
   "metadata": {},
   "outputs": [
    {
     "data": {
      "text/html": [
       "<div>\n",
       "<style>\n",
       "    .dataframe thead tr:only-child th {\n",
       "        text-align: right;\n",
       "    }\n",
       "\n",
       "    .dataframe thead th {\n",
       "        text-align: left;\n",
       "    }\n",
       "\n",
       "    .dataframe tbody tr th {\n",
       "        vertical-align: top;\n",
       "    }\n",
       "</style>\n",
       "<table border=\"1\" class=\"dataframe\">\n",
       "  <thead>\n",
       "    <tr style=\"text-align: right;\">\n",
       "      <th></th>\n",
       "      <th>AdoptionSpeed</th>\n",
       "      <th>Description</th>\n",
       "      <th>Quantity</th>\n",
       "      <th>score</th>\n",
       "      <th>sentiment</th>\n",
       "    </tr>\n",
       "  </thead>\n",
       "  <tbody>\n",
       "    <tr>\n",
       "      <th>14452</th>\n",
       "      <td>4</td>\n",
       "      <td>Black Dog - Lucky Named By Rescurer</td>\n",
       "      <td>1</td>\n",
       "      <td>0.1</td>\n",
       "      <td>0.17</td>\n",
       "    </tr>\n",
       "    <tr>\n",
       "      <th>14467</th>\n",
       "      <td>3</td>\n",
       "      <td>12 Cute &amp; Chubby Soldiers</td>\n",
       "      <td>1</td>\n",
       "      <td>0.0</td>\n",
       "      <td>0.00</td>\n",
       "    </tr>\n",
       "    <tr>\n",
       "      <th>14472</th>\n",
       "      <td>1</td>\n",
       "      <td>Kitten Swap With RC Kitten 10kg</td>\n",
       "      <td>1</td>\n",
       "      <td>0.0</td>\n",
       "      <td>0.00</td>\n",
       "    </tr>\n",
       "    <tr>\n",
       "      <th>14478</th>\n",
       "      <td>2</td>\n",
       "      <td>Hamtaro. Goofy And Maru</td>\n",
       "      <td>3</td>\n",
       "      <td>0.0</td>\n",
       "      <td>0.00</td>\n",
       "    </tr>\n",
       "    <tr>\n",
       "      <th>14479</th>\n",
       "      <td>3</td>\n",
       "      <td>Little Angel (Special Case)</td>\n",
       "      <td>1</td>\n",
       "      <td>0.4</td>\n",
       "      <td>3.16</td>\n",
       "    </tr>\n",
       "    <tr>\n",
       "      <th>14488</th>\n",
       "      <td>1</td>\n",
       "      <td>RETRIEVER  - FOUND SS14 SUBANG JAYA</td>\n",
       "      <td>1</td>\n",
       "      <td>0.1</td>\n",
       "      <td>0.23</td>\n",
       "    </tr>\n",
       "    <tr>\n",
       "      <th>14489</th>\n",
       "      <td>1</td>\n",
       "      <td>Wait For The Real Owner To Name It</td>\n",
       "      <td>4</td>\n",
       "      <td>0.2</td>\n",
       "      <td>0.76</td>\n",
       "    </tr>\n",
       "    <tr>\n",
       "      <th>14493</th>\n",
       "      <td>2</td>\n",
       "      <td>Tabby Webby, Muffin &amp; Snow White</td>\n",
       "      <td>3</td>\n",
       "      <td>0.1</td>\n",
       "      <td>0.29</td>\n",
       "    </tr>\n",
       "    <tr>\n",
       "      <th>14500</th>\n",
       "      <td>3</td>\n",
       "      <td>3 Months Old Kittens For Free Adopt</td>\n",
       "      <td>3</td>\n",
       "      <td>0.3</td>\n",
       "      <td>0.18</td>\n",
       "    </tr>\n",
       "    <tr>\n",
       "      <th>14506</th>\n",
       "      <td>4</td>\n",
       "      <td>Bushy Calico - Found In Kinrara</td>\n",
       "      <td>1</td>\n",
       "      <td>0.1</td>\n",
       "      <td>0.24</td>\n",
       "    </tr>\n",
       "    <tr>\n",
       "      <th>14521</th>\n",
       "      <td>3</td>\n",
       "      <td>Maui With 3, 2-month-old Kittens</td>\n",
       "      <td>4</td>\n",
       "      <td>-0.1</td>\n",
       "      <td>-0.02</td>\n",
       "    </tr>\n",
       "    <tr>\n",
       "      <th>14539</th>\n",
       "      <td>4</td>\n",
       "      <td>August: Black Breauty Labrador Mix</td>\n",
       "      <td>1</td>\n",
       "      <td>0.0</td>\n",
       "      <td>0.00</td>\n",
       "    </tr>\n",
       "    <tr>\n",
       "      <th>14547</th>\n",
       "      <td>2</td>\n",
       "      <td>PaePe (Indoor-Toilet Trained)</td>\n",
       "      <td>1</td>\n",
       "      <td>0.1</td>\n",
       "      <td>0.11</td>\n",
       "    </tr>\n",
       "    <tr>\n",
       "      <th>14548</th>\n",
       "      <td>4</td>\n",
       "      <td>Ding Ding And Dong Dong</td>\n",
       "      <td>2</td>\n",
       "      <td>0.4</td>\n",
       "      <td>0.16</td>\n",
       "    </tr>\n",
       "    <tr>\n",
       "      <th>14581</th>\n",
       "      <td>2</td>\n",
       "      <td>Shortie A.k.a Eh-Ya-Tok</td>\n",
       "      <td>1</td>\n",
       "      <td>0.4</td>\n",
       "      <td>1.08</td>\n",
       "    </tr>\n",
       "    <tr>\n",
       "      <th>14594</th>\n",
       "      <td>3</td>\n",
       "      <td>Vivo &amp; Venti - Petaling Jaya</td>\n",
       "      <td>2</td>\n",
       "      <td>-0.1</td>\n",
       "      <td>-0.53</td>\n",
       "    </tr>\n",
       "    <tr>\n",
       "      <th>14609</th>\n",
       "      <td>4</td>\n",
       "      <td>Sam And Sue- German Shepherd Mix</td>\n",
       "      <td>2</td>\n",
       "      <td>0.1</td>\n",
       "      <td>0.20</td>\n",
       "    </tr>\n",
       "    <tr>\n",
       "      <th>14614</th>\n",
       "      <td>1</td>\n",
       "      <td>Tom &amp; Jerry (Temporary Name)</td>\n",
       "      <td>2</td>\n",
       "      <td>0.4</td>\n",
       "      <td>0.80</td>\n",
       "    </tr>\n",
       "    <tr>\n",
       "      <th>14626</th>\n",
       "      <td>4</td>\n",
       "      <td>Little Bobo(2 Months Old)</td>\n",
       "      <td>1</td>\n",
       "      <td>0.2</td>\n",
       "      <td>0.82</td>\n",
       "    </tr>\n",
       "    <tr>\n",
       "      <th>14630</th>\n",
       "      <td>2</td>\n",
       "      <td>Cats-Baby,Manja,Comel.</td>\n",
       "      <td>4</td>\n",
       "      <td>0.0</td>\n",
       "      <td>0.00</td>\n",
       "    </tr>\n",
       "    <tr>\n",
       "      <th>14642</th>\n",
       "      <td>4</td>\n",
       "      <td>Hello, Halo, HI HI, Hatrick</td>\n",
       "      <td>4</td>\n",
       "      <td>0.4</td>\n",
       "      <td>0.16</td>\n",
       "    </tr>\n",
       "    <tr>\n",
       "      <th>14669</th>\n",
       "      <td>2</td>\n",
       "      <td>Hei Hei &amp; Huang Huang</td>\n",
       "      <td>4</td>\n",
       "      <td>0.2</td>\n",
       "      <td>0.52</td>\n",
       "    </tr>\n",
       "    <tr>\n",
       "      <th>14674</th>\n",
       "      <td>2</td>\n",
       "      <td>Cute Puppy Princess In Damansara!!!</td>\n",
       "      <td>1</td>\n",
       "      <td>0.7</td>\n",
       "      <td>2.03</td>\n",
       "    </tr>\n",
       "    <tr>\n",
       "      <th>14680</th>\n",
       "      <td>4</td>\n",
       "      <td>3 Sweet Kittens (5 Months Old)</td>\n",
       "      <td>3</td>\n",
       "      <td>0.6</td>\n",
       "      <td>1.08</td>\n",
       "    </tr>\n",
       "    <tr>\n",
       "      <th>14691</th>\n",
       "      <td>4</td>\n",
       "      <td>5 Lilttle Cute Puppies</td>\n",
       "      <td>5</td>\n",
       "      <td>0.1</td>\n",
       "      <td>0.07</td>\n",
       "    </tr>\n",
       "    <tr>\n",
       "      <th>14702</th>\n",
       "      <td>4</td>\n",
       "      <td>Save ME OR I'll Die #39</td>\n",
       "      <td>4</td>\n",
       "      <td>0.0</td>\n",
       "      <td>0.00</td>\n",
       "    </tr>\n",
       "    <tr>\n",
       "      <th>14713</th>\n",
       "      <td>2</td>\n",
       "      <td>Beautiful Very Affectionate Stray</td>\n",
       "      <td>1</td>\n",
       "      <td>0.0</td>\n",
       "      <td>0.00</td>\n",
       "    </tr>\n",
       "    <tr>\n",
       "      <th>14721</th>\n",
       "      <td>4</td>\n",
       "      <td>Rescued Kittens And Cats</td>\n",
       "      <td>5</td>\n",
       "      <td>0.2</td>\n",
       "      <td>0.46</td>\n",
       "    </tr>\n",
       "    <tr>\n",
       "      <th>14728</th>\n",
       "      <td>4</td>\n",
       "      <td>4 Kittens Need Foster</td>\n",
       "      <td>4</td>\n",
       "      <td>0.0</td>\n",
       "      <td>0.00</td>\n",
       "    </tr>\n",
       "    <tr>\n",
       "      <th>14730</th>\n",
       "      <td>2</td>\n",
       "      <td>Mr Fluffers And Cocochino</td>\n",
       "      <td>2</td>\n",
       "      <td>0.2</td>\n",
       "      <td>1.28</td>\n",
       "    </tr>\n",
       "    <tr>\n",
       "      <th>14735</th>\n",
       "      <td>2</td>\n",
       "      <td>Handsome Boy Seeks Home</td>\n",
       "      <td>1</td>\n",
       "      <td>0.4</td>\n",
       "      <td>0.88</td>\n",
       "    </tr>\n",
       "    <tr>\n",
       "      <th>14748</th>\n",
       "      <td>3</td>\n",
       "      <td>Guard Dog Needs A Job!</td>\n",
       "      <td>1</td>\n",
       "      <td>0.4</td>\n",
       "      <td>1.36</td>\n",
       "    </tr>\n",
       "    <tr>\n",
       "      <th>14756</th>\n",
       "      <td>2</td>\n",
       "      <td>Puppies Looking For Sweet Home</td>\n",
       "      <td>1</td>\n",
       "      <td>0.0</td>\n",
       "      <td>0.00</td>\n",
       "    </tr>\n",
       "    <tr>\n",
       "      <th>14804</th>\n",
       "      <td>2</td>\n",
       "      <td>Mixxy (golden Retriver + Shepherd )</td>\n",
       "      <td>1</td>\n",
       "      <td>0.5</td>\n",
       "      <td>0.85</td>\n",
       "    </tr>\n",
       "    <tr>\n",
       "      <th>14811</th>\n",
       "      <td>1</td>\n",
       "      <td>Papui (male) Mimi (female)</td>\n",
       "      <td>2</td>\n",
       "      <td>0.3</td>\n",
       "      <td>1.38</td>\n",
       "    </tr>\n",
       "    <tr>\n",
       "      <th>14813</th>\n",
       "      <td>4</td>\n",
       "      <td>Mommy Cat And 3 Kittens</td>\n",
       "      <td>1</td>\n",
       "      <td>0.5</td>\n",
       "      <td>0.25</td>\n",
       "    </tr>\n",
       "    <tr>\n",
       "      <th>14817</th>\n",
       "      <td>4</td>\n",
       "      <td>Abu (KEDAH AREA ONLY)</td>\n",
       "      <td>1</td>\n",
       "      <td>0.0</td>\n",
       "      <td>0.00</td>\n",
       "    </tr>\n",
       "    <tr>\n",
       "      <th>14840</th>\n",
       "      <td>1</td>\n",
       "      <td>Chairity (4months ) &amp; GTR (2months)</td>\n",
       "      <td>1</td>\n",
       "      <td>0.2</td>\n",
       "      <td>0.44</td>\n",
       "    </tr>\n",
       "    <tr>\n",
       "      <th>14851</th>\n",
       "      <td>3</td>\n",
       "      <td>Yoda ( God Among Us )</td>\n",
       "      <td>1</td>\n",
       "      <td>0.2</td>\n",
       "      <td>0.48</td>\n",
       "    </tr>\n",
       "    <tr>\n",
       "      <th>14854</th>\n",
       "      <td>4</td>\n",
       "      <td>Parlie, Miki, Caely, Taiger</td>\n",
       "      <td>4</td>\n",
       "      <td>0.0</td>\n",
       "      <td>0.00</td>\n",
       "    </tr>\n",
       "    <tr>\n",
       "      <th>14860</th>\n",
       "      <td>3</td>\n",
       "      <td>5 Little Black Beauty</td>\n",
       "      <td>5</td>\n",
       "      <td>0.0</td>\n",
       "      <td>0.00</td>\n",
       "    </tr>\n",
       "    <tr>\n",
       "      <th>14877</th>\n",
       "      <td>2</td>\n",
       "      <td>Healthy Active Kitten</td>\n",
       "      <td>1</td>\n",
       "      <td>0.9</td>\n",
       "      <td>0.81</td>\n",
       "    </tr>\n",
       "    <tr>\n",
       "      <th>14879</th>\n",
       "      <td>3</td>\n",
       "      <td>Toby RIP Zoe Sammy Adpt Holly Hazel Mia</td>\n",
       "      <td>5</td>\n",
       "      <td>0.9</td>\n",
       "      <td>1.71</td>\n",
       "    </tr>\n",
       "    <tr>\n",
       "      <th>14884</th>\n",
       "      <td>4</td>\n",
       "      <td>Along,angah,uda,uteh &amp; Ateh</td>\n",
       "      <td>6</td>\n",
       "      <td>0.0</td>\n",
       "      <td>0.00</td>\n",
       "    </tr>\n",
       "    <tr>\n",
       "      <th>14890</th>\n",
       "      <td>1</td>\n",
       "      <td>Lovely Happy Puppies :))</td>\n",
       "      <td>4</td>\n",
       "      <td>0.3</td>\n",
       "      <td>0.75</td>\n",
       "    </tr>\n",
       "    <tr>\n",
       "      <th>14893</th>\n",
       "      <td>4</td>\n",
       "      <td>URGENT!Female Cat With Her Three Kittens</td>\n",
       "      <td>4</td>\n",
       "      <td>0.3</td>\n",
       "      <td>0.30</td>\n",
       "    </tr>\n",
       "    <tr>\n",
       "      <th>14900</th>\n",
       "      <td>2</td>\n",
       "      <td>Princess Hazel In Kulim</td>\n",
       "      <td>1</td>\n",
       "      <td>0.6</td>\n",
       "      <td>1.62</td>\n",
       "    </tr>\n",
       "    <tr>\n",
       "      <th>14919</th>\n",
       "      <td>4</td>\n",
       "      <td>URGENT: Frigga The Sweetest Girl</td>\n",
       "      <td>1</td>\n",
       "      <td>0.0</td>\n",
       "      <td>0.00</td>\n",
       "    </tr>\n",
       "    <tr>\n",
       "      <th>14970</th>\n",
       "      <td>3</td>\n",
       "      <td>KL Puppies For Adoption</td>\n",
       "      <td>2</td>\n",
       "      <td>0.1</td>\n",
       "      <td>0.30</td>\n",
       "    </tr>\n",
       "    <tr>\n",
       "      <th>14986</th>\n",
       "      <td>3</td>\n",
       "      <td>Pets + Strays : BlueEyed BlackWhite</td>\n",
       "      <td>1</td>\n",
       "      <td>0.2</td>\n",
       "      <td>0.10</td>\n",
       "    </tr>\n",
       "  </tbody>\n",
       "</table>\n",
       "</div>"
      ],
      "text/plain": [
       "       AdoptionSpeed                               Description  Quantity  \\\n",
       "14452              4       Black Dog - Lucky Named By Rescurer         1   \n",
       "14467              3                 12 Cute & Chubby Soldiers         1   \n",
       "14472              1           Kitten Swap With RC Kitten 10kg         1   \n",
       "14478              2                   Hamtaro. Goofy And Maru         3   \n",
       "14479              3               Little Angel (Special Case)         1   \n",
       "14488              1       RETRIEVER  - FOUND SS14 SUBANG JAYA         1   \n",
       "14489              1        Wait For The Real Owner To Name It         4   \n",
       "14493              2          Tabby Webby, Muffin & Snow White         3   \n",
       "14500              3       3 Months Old Kittens For Free Adopt         3   \n",
       "14506              4           Bushy Calico - Found In Kinrara         1   \n",
       "14521              3          Maui With 3, 2-month-old Kittens         4   \n",
       "14539              4        August: Black Breauty Labrador Mix         1   \n",
       "14547              2             PaePe (Indoor-Toilet Trained)         1   \n",
       "14548              4                   Ding Ding And Dong Dong         2   \n",
       "14581              2                   Shortie A.k.a Eh-Ya-Tok         1   \n",
       "14594              3              Vivo & Venti - Petaling Jaya         2   \n",
       "14609              4          Sam And Sue- German Shepherd Mix         2   \n",
       "14614              1              Tom & Jerry (Temporary Name)         2   \n",
       "14626              4                 Little Bobo(2 Months Old)         1   \n",
       "14630              2                    Cats-Baby,Manja,Comel.         4   \n",
       "14642              4               Hello, Halo, HI HI, Hatrick         4   \n",
       "14669              2                     Hei Hei & Huang Huang         4   \n",
       "14674              2       Cute Puppy Princess In Damansara!!!         1   \n",
       "14680              4            3 Sweet Kittens (5 Months Old)         3   \n",
       "14691              4                    5 Lilttle Cute Puppies         5   \n",
       "14702              4                   Save ME OR I'll Die #39         4   \n",
       "14713              2         Beautiful Very Affectionate Stray         1   \n",
       "14721              4                  Rescued Kittens And Cats         5   \n",
       "14728              4                     4 Kittens Need Foster         4   \n",
       "14730              2                 Mr Fluffers And Cocochino         2   \n",
       "14735              2                   Handsome Boy Seeks Home         1   \n",
       "14748              3                    Guard Dog Needs A Job!         1   \n",
       "14756              2            Puppies Looking For Sweet Home         1   \n",
       "14804              2       Mixxy (golden Retriver + Shepherd )         1   \n",
       "14811              1                Papui (male) Mimi (female)         2   \n",
       "14813              4                   Mommy Cat And 3 Kittens         1   \n",
       "14817              4                     Abu (KEDAH AREA ONLY)         1   \n",
       "14840              1       Chairity (4months ) & GTR (2months)         1   \n",
       "14851              3                     Yoda ( God Among Us )         1   \n",
       "14854              4               Parlie, Miki, Caely, Taiger         4   \n",
       "14860              3                     5 Little Black Beauty         5   \n",
       "14877              2                     Healthy Active Kitten         1   \n",
       "14879              3   Toby RIP Zoe Sammy Adpt Holly Hazel Mia         5   \n",
       "14884              4               Along,angah,uda,uteh & Ateh         6   \n",
       "14890              1                  Lovely Happy Puppies :))         4   \n",
       "14893              4  URGENT!Female Cat With Her Three Kittens         4   \n",
       "14900              2                   Princess Hazel In Kulim         1   \n",
       "14919              4          URGENT: Frigga The Sweetest Girl         1   \n",
       "14970              3                   KL Puppies For Adoption         2   \n",
       "14986              3       Pets + Strays : BlueEyed BlackWhite         1   \n",
       "\n",
       "       score  sentiment  \n",
       "14452    0.1       0.17  \n",
       "14467    0.0       0.00  \n",
       "14472    0.0       0.00  \n",
       "14478    0.0       0.00  \n",
       "14479    0.4       3.16  \n",
       "14488    0.1       0.23  \n",
       "14489    0.2       0.76  \n",
       "14493    0.1       0.29  \n",
       "14500    0.3       0.18  \n",
       "14506    0.1       0.24  \n",
       "14521   -0.1      -0.02  \n",
       "14539    0.0       0.00  \n",
       "14547    0.1       0.11  \n",
       "14548    0.4       0.16  \n",
       "14581    0.4       1.08  \n",
       "14594   -0.1      -0.53  \n",
       "14609    0.1       0.20  \n",
       "14614    0.4       0.80  \n",
       "14626    0.2       0.82  \n",
       "14630    0.0       0.00  \n",
       "14642    0.4       0.16  \n",
       "14669    0.2       0.52  \n",
       "14674    0.7       2.03  \n",
       "14680    0.6       1.08  \n",
       "14691    0.1       0.07  \n",
       "14702    0.0       0.00  \n",
       "14713    0.0       0.00  \n",
       "14721    0.2       0.46  \n",
       "14728    0.0       0.00  \n",
       "14730    0.2       1.28  \n",
       "14735    0.4       0.88  \n",
       "14748    0.4       1.36  \n",
       "14756    0.0       0.00  \n",
       "14804    0.5       0.85  \n",
       "14811    0.3       1.38  \n",
       "14813    0.5       0.25  \n",
       "14817    0.0       0.00  \n",
       "14840    0.2       0.44  \n",
       "14851    0.2       0.48  \n",
       "14854    0.0       0.00  \n",
       "14860    0.0       0.00  \n",
       "14877    0.9       0.81  \n",
       "14879    0.9       1.71  \n",
       "14884    0.0       0.00  \n",
       "14890    0.3       0.75  \n",
       "14893    0.3       0.30  \n",
       "14900    0.6       1.62  \n",
       "14919    0.0       0.00  \n",
       "14970    0.1       0.30  \n",
       "14986    0.2       0.10  "
      ]
     },
     "execution_count": 152,
     "metadata": {},
     "output_type": "execute_result"
    }
   ],
   "source": [
    "dfAll[dfAll.Desc_Len > 20][['AdoptionSpeed', 'Description','Quantity','score','sentiment']][-50:]"
   ]
  },
  {
   "cell_type": "code",
   "execution_count": 144,
   "metadata": {},
   "outputs": [
    {
     "data": {
      "text/plain": [
       "75               Coco\n",
       "170            Sunset\n",
       "260           Wei Wei\n",
       "740         Dalmation\n",
       "1011    Molly (momol)\n",
       "1015          Shimbha\n",
       "1050          Mun Mun\n",
       "1057                 \n",
       "1183    Angel & Tesco\n",
       "1295            Puppy\n",
       "Name: Description, dtype: object"
      ]
     },
     "execution_count": 144,
     "metadata": {},
     "output_type": "execute_result"
    }
   ],
   "source": [
    "dfAll[(dfAll['score'] > 0.32) & (dfAll['AdoptionSpeed'] == 0)]['Description'][:10]"
   ]
  },
  {
   "cell_type": "code",
   "execution_count": 136,
   "metadata": {
    "scrolled": true
   },
   "outputs": [
    {
     "data": {
      "text/html": [
       "<div>\n",
       "<style>\n",
       "    .dataframe thead tr:only-child th {\n",
       "        text-align: right;\n",
       "    }\n",
       "\n",
       "    .dataframe thead th {\n",
       "        text-align: left;\n",
       "    }\n",
       "\n",
       "    .dataframe tbody tr th {\n",
       "        vertical-align: top;\n",
       "    }\n",
       "</style>\n",
       "<table border=\"1\" class=\"dataframe\">\n",
       "  <thead>\n",
       "    <tr style=\"text-align: right;\">\n",
       "      <th></th>\n",
       "      <th></th>\n",
       "      <th>sentiment</th>\n",
       "      <th>score</th>\n",
       "    </tr>\n",
       "    <tr>\n",
       "      <th>Type</th>\n",
       "      <th>AdoptionSpeed</th>\n",
       "      <th></th>\n",
       "      <th></th>\n",
       "    </tr>\n",
       "  </thead>\n",
       "  <tbody>\n",
       "    <tr>\n",
       "      <th rowspan=\"5\" valign=\"top\">Cat</th>\n",
       "      <th>0</th>\n",
       "      <td>0.30</td>\n",
       "      <td>0.2</td>\n",
       "    </tr>\n",
       "    <tr>\n",
       "      <th>1</th>\n",
       "      <td>0.40</td>\n",
       "      <td>0.2</td>\n",
       "    </tr>\n",
       "    <tr>\n",
       "      <th>2</th>\n",
       "      <td>0.42</td>\n",
       "      <td>0.2</td>\n",
       "    </tr>\n",
       "    <tr>\n",
       "      <th>3</th>\n",
       "      <td>0.42</td>\n",
       "      <td>0.2</td>\n",
       "    </tr>\n",
       "    <tr>\n",
       "      <th>4</th>\n",
       "      <td>0.36</td>\n",
       "      <td>0.3</td>\n",
       "    </tr>\n",
       "    <tr>\n",
       "      <th rowspan=\"5\" valign=\"top\">Dog</th>\n",
       "      <th>0</th>\n",
       "      <td>0.32</td>\n",
       "      <td>0.3</td>\n",
       "    </tr>\n",
       "    <tr>\n",
       "      <th>1</th>\n",
       "      <td>0.32</td>\n",
       "      <td>0.2</td>\n",
       "    </tr>\n",
       "    <tr>\n",
       "      <th>2</th>\n",
       "      <td>0.36</td>\n",
       "      <td>0.2</td>\n",
       "    </tr>\n",
       "    <tr>\n",
       "      <th>3</th>\n",
       "      <td>0.40</td>\n",
       "      <td>0.2</td>\n",
       "    </tr>\n",
       "    <tr>\n",
       "      <th>4</th>\n",
       "      <td>0.42</td>\n",
       "      <td>0.3</td>\n",
       "    </tr>\n",
       "  </tbody>\n",
       "</table>\n",
       "</div>"
      ],
      "text/plain": [
       "                    sentiment  score\n",
       "Type AdoptionSpeed                  \n",
       "Cat  0                   0.30    0.2\n",
       "     1                   0.40    0.2\n",
       "     2                   0.42    0.2\n",
       "     3                   0.42    0.2\n",
       "     4                   0.36    0.3\n",
       "Dog  0                   0.32    0.3\n",
       "     1                   0.32    0.2\n",
       "     2                   0.36    0.2\n",
       "     3                   0.40    0.2\n",
       "     4                   0.42    0.3"
      ]
     },
     "execution_count": 136,
     "metadata": {},
     "output_type": "execute_result"
    }
   ],
   "source": [
    "dfAll.groupby(['Type','AdoptionSpeed'])[['sentiment','score']].median()"
   ]
  },
  {
   "cell_type": "code",
   "execution_count": 20,
   "metadata": {},
   "outputs": [
    {
     "data": {
      "image/png": "[encoded data removed]",
      "text/plain": [
       "<matplotlib.figure.Figure at 0x124b11710>"
      ]
     },
     "metadata": {},
     "output_type": "display_data"
    }
   ],
   "source": [
    "fig = plt.figure(figsize=(17,4))\n",
    "sns.boxplot(y='magnitude', x='AdoptionSpeed', hue='Type', data=dfAll, palette='Set2')\n",
    "plt.xlabel('Adoption Speed')\n",
    "plt.ylabel('magnitude')\n",
    "plt.title('Description Sentiment Magnitude vs. Adoption Speed')\n",
    "#plt.show()\n",
    "fig.tight_layout()\n",
    "plt.savefig('../images/Desc_magnitude_x_AdoptSpeed.png')"
   ]
  },
  {
   "cell_type": "code",
   "execution_count": 21,
   "metadata": {},
   "outputs": [
    {
     "data": {
      "image/png": "[encoded data removed]",
      "text/plain": [
       "<matplotlib.figure.Figure at 0x124dd4940>"
      ]
     },
     "metadata": {},
     "output_type": "display_data"
    }
   ],
   "source": [
    "fig = plt.figure(figsize=(17,4))\n",
    "sns.boxplot(y='score', x='AdoptionSpeed', hue='Type', data=dfAll, palette='Set2')\n",
    "plt.xlabel('Adoption Speed')\n",
    "plt.ylabel('Score')\n",
    "plt.title('Description Sentiment Score vs. Adoption Speed')\n",
    "#plt.show()\n",
    "fig.tight_layout()\n",
    "plt.savefig('../images/Desc_score_x_AdoptSpeed.png')"
   ]
  },
  {
   "cell_type": "code",
   "execution_count": 22,
   "metadata": {},
   "outputs": [
    {
     "data": {
      "image/png": "[encoded data removed]",
      "text/plain": [
       "<matplotlib.figure.Figure at 0x124de9470>"
      ]
     },
     "metadata": {},
     "output_type": "display_data"
    }
   ],
   "source": [
    "fig = plt.figure(figsize=(17,4))\n",
    "sns.boxplot(y='sentiment', x='AdoptionSpeed', hue='Type', data=dfAll, palette='Set2')\n",
    "plt.xlabel('Adoption Speed')\n",
    "plt.ylabel('Sentiment')\n",
    "plt.title('Magnitude*Score vs. Adoption Speed')\n",
    "plt.savefig('../images/Sentiment_x_AdoptSpeed.png')"
   ]
  },
  {
   "cell_type": "markdown",
   "metadata": {},
   "source": [
    "### Distribution of Adoption Speed by Pet Type"
   ]
  },
  {
   "cell_type": "code",
   "execution_count": 23,
   "metadata": {},
   "outputs": [
    {
     "data": {
      "image/png": "[encoded data removed]",
      "text/plain": [
       "<matplotlib.figure.Figure at 0x124df5f28>"
      ]
     },
     "metadata": {},
     "output_type": "display_data"
    }
   ],
   "source": [
    "fig = plt.figure(figsize=(7,4))\n",
    "sns.countplot(x='AdoptionSpeed',data=dfAll, hue='Type', palette='Set2')\n",
    "plt.title('Distribution of Adoption Speed by Pet Type')\n",
    "fig.tight_layout()\n",
    "plt.savefig('../images/Dist_adoptspeed_x_pet.png')"
   ]
  },
  {
   "cell_type": "code",
   "execution_count": 24,
   "metadata": {},
   "outputs": [
    {
     "data": {
      "text/plain": [
       "8132"
      ]
     },
     "execution_count": 24,
     "metadata": {},
     "output_type": "execute_result"
    }
   ],
   "source": [
    "tot_Dogs = dfAll[dfAll.Type == 'Dog']['Type'].count()\n",
    "tot_Dogs"
   ]
  },
  {
   "cell_type": "code",
   "execution_count": 25,
   "metadata": {},
   "outputs": [
    {
     "data": {
      "text/plain": [
       "<pandas.core.groupby.DataFrameGroupBy object at 0x120ed65f8>"
      ]
     },
     "execution_count": 25,
     "metadata": {},
     "output_type": "execute_result"
    }
   ],
   "source": [
    "dfAll.groupby(['Type', 'AdoptionSpeed'])"
   ]
  },
  {
   "cell_type": "markdown",
   "metadata": {},
   "source": [
    "### Distribution of pets (Cats vs Dogs)"
   ]
  },
  {
   "cell_type": "code",
   "execution_count": 26,
   "metadata": {
    "scrolled": true
   },
   "outputs": [
    {
     "data": {
      "image/png": "[encoded data removed]",
      "text/plain": [
       "<matplotlib.figure.Figure at 0x127262400>"
      ]
     },
     "metadata": {},
     "output_type": "display_data"
    }
   ],
   "source": [
    "sns.countplot(x='Type',data=dfAll, palette='Set2')\n",
    "plt.title('Distribution of pets (Cats vs Dogs)')\n",
    "plt.savefig('../images/Dist_petType.png')"
   ]
  },
  {
   "cell_type": "code",
   "execution_count": 27,
   "metadata": {},
   "outputs": [
    {
     "data": {
      "image/png": "[encoded data removed]",
      "text/plain": [
       "<matplotlib.figure.Figure at 0x127152898>"
      ]
     },
     "metadata": {},
     "output_type": "display_data"
    }
   ],
   "source": [
    "fig = plt.figure(figsize=(10,12))\n",
    "plt.subplot(2,1,1)\n",
    "sns.countplot(x='FurLength',data=dfAll[dfAll.Type=='Dog'],  hue='AdoptionSpeed' ,palette='Set2')\n",
    "plt.title('Dog Fur Length by Adoption Speed ')\n",
    "plt.subplot(2,1,2)\n",
    "sns.countplot(x='FurLength',data=dfAll[dfAll.Type=='Cat'],  hue='AdoptionSpeed' ,palette='Set2')\n",
    "plt.title('Cat Fur Length by Adoption Speed ')\n",
    "fig.savefig('../images/FurLen_x_AdoptSpeed.png', bbox_inches='tight')"
   ]
  },
  {
   "cell_type": "code",
   "execution_count": 28,
   "metadata": {},
   "outputs": [
    {
     "data": {
      "image/png": "[encoded data removed]",
      "text/plain": [
       "<matplotlib.figure.Figure at 0x1275d5c88>"
      ]
     },
     "metadata": {},
     "output_type": "display_data"
    }
   ],
   "source": [
    "fig = plt.figure(figsize=(12,10))\n",
    "plt.subplot(2,1,1)\n",
    "sns.countplot(x=\"age_cat\", data=dfAll[dfAll.Type == 'Dog'].sort_values('age_cat'), hue='AdoptionSpeed', palette='Set2')\n",
    "plt.title('Distribution of Age Category for Dogs')\n",
    "plt.subplot(2,1,2)\n",
    "sns.countplot(x=\"age_cat\", data=dfAll[dfAll.Type == 'Cat'], hue='AdoptionSpeed', palette='Set2')\n",
    "plt.title('Distribution of Age Category for Cats')\n",
    "fig.savefig('../images/AgeCat_x_AdoptSpeed.png', bbox_inches='tight')"
   ]
  },
  {
   "cell_type": "code",
   "execution_count": 29,
   "metadata": {},
   "outputs": [
    {
     "data": {
      "image/png": "[encoded data removed]",
      "text/plain": [
       "<matplotlib.figure.Figure at 0x127493f28>"
      ]
     },
     "metadata": {},
     "output_type": "display_data"
    }
   ],
   "source": [
    "sns.countplot(x=\"Type\", hue=\"Breed_Ind\", data=dfAll, palette='Set2')\n",
    "plt.title('Distribution of pets (Cats vs Dogs) by Breed')\n",
    "plt.savefig('../images/Dist_byBreed.png', bbox_inches='tight')"
   ]
  },
  {
   "cell_type": "code",
   "execution_count": 30,
   "metadata": {},
   "outputs": [
    {
     "name": "stderr",
     "output_type": "stream",
     "text": [
      "/Users/ayeshamendoza/anaconda/lib/python3.6/site-packages/scipy/stats/stats.py:1633: FutureWarning: Using a non-tuple sequence for multidimensional indexing is deprecated; use `arr[tuple(seq)]` instead of `arr[seq]`. In the future this will be interpreted as an array index, `arr[np.array(seq)]`, which will result either in an error or a different result.\n",
      "  return np.add.reduce(sorted[indexer] * weights, axis=axis) / sumval\n"
     ]
    },
    {
     "data": {
      "image/png": "[encoded data removed]",
      "text/plain": [
       "<matplotlib.figure.Figure at 0x127577278>"
      ]
     },
     "metadata": {},
     "output_type": "display_data"
    }
   ],
   "source": [
    "sns.barplot(x='Type', y='AdoptionSpeed', hue='Breed_Ind', data=dfAll, palette='Set2')\n",
    "plt.xlabel('Type')\n",
    "plt.ylabel('AdoptionSpeed')\n",
    "plt.show()"
   ]
  },
  {
   "cell_type": "code",
   "execution_count": 31,
   "metadata": {},
   "outputs": [
    {
     "data": {
      "image/png": "[encoded data removed]",
      "text/plain": [
       "<matplotlib.figure.Figure at 0x127591320>"
      ]
     },
     "metadata": {},
     "output_type": "display_data"
    }
   ],
   "source": [
    "fig = plt.figure(figsize=(10,5))\n",
    "sns.boxplot(x='Type', y='Name_Len', hue='AdoptionSpeed', data=dfAll, palette='Set2')\n",
    "plt.xlabel('Type')\n",
    "plt.ylabel('Name Length')\n",
    "plt.savefig('../images/NameLength.png', bbox_inches='tight')"
   ]
  },
  {
   "cell_type": "code",
   "execution_count": 32,
   "metadata": {},
   "outputs": [
    {
     "data": {
      "text/plain": [
       "AdoptionSpeed  Type\n",
       "0              Cat     10.362500\n",
       "               Dog      7.758824\n",
       "1              Cat      9.240483\n",
       "               Dog      8.136585\n",
       "2              Cat      8.930593\n",
       "               Dog      8.414510\n",
       "3              Cat      9.451908\n",
       "               Dog      8.498717\n",
       "4              Cat      8.862030\n",
       "               Dog      8.361640\n",
       "Name: Name_Len, dtype: float64"
      ]
     },
     "execution_count": 32,
     "metadata": {},
     "output_type": "execute_result"
    }
   ],
   "source": [
    "dfAll.groupby(['AdoptionSpeed','Type'])['Name_Len'].mean()"
   ]
  },
  {
   "cell_type": "code",
   "execution_count": 33,
   "metadata": {},
   "outputs": [
    {
     "data": {
      "text/plain": [
       "AdoptionSpeed  Type\n",
       "0              Cat      11\n",
       "               Dog      15\n",
       "1              Cat     147\n",
       "               Dog     124\n",
       "2              Cat     159\n",
       "               Dog     153\n",
       "3              Cat     115\n",
       "               Dog     101\n",
       "4              Cat     176\n",
       "               Dog     256\n",
       "Name: PetID, dtype: int64"
      ]
     },
     "execution_count": 33,
     "metadata": {},
     "output_type": "execute_result"
    }
   ],
   "source": [
    "dfAll[dfAll.Name_Len == 0].groupby(['AdoptionSpeed','Type'])['PetID'].count()"
   ]
  },
  {
   "cell_type": "markdown",
   "metadata": {},
   "source": [
    "It looks like for pet names, cats with longer names are more popular - Faster Adoption speed, which is the opposite for dogs.  Dogs with shorter names have faster adoption speed."
   ]
  },
  {
   "cell_type": "code",
   "execution_count": 34,
   "metadata": {},
   "outputs": [
    {
     "name": "stderr",
     "output_type": "stream",
     "text": [
      "/Users/ayeshamendoza/anaconda/lib/python3.6/site-packages/scipy/stats/stats.py:1633: FutureWarning: Using a non-tuple sequence for multidimensional indexing is deprecated; use `arr[tuple(seq)]` instead of `arr[seq]`. In the future this will be interpreted as an array index, `arr[np.array(seq)]`, which will result either in an error or a different result.\n",
      "  return np.add.reduce(sorted[indexer] * weights, axis=axis) / sumval\n"
     ]
    },
    {
     "data": {
      "image/png": "[encoded data removed]",
      "text/plain": [
       "<matplotlib.figure.Figure at 0x1275d1828>"
      ]
     },
     "metadata": {},
     "output_type": "display_data"
    }
   ],
   "source": [
    "plt.figure(figsize=(10, 8));\n",
    "sns.violinplot(x=\"AdoptionSpeed\", y=\"Age\", hue=\"Type\", data=dfAll, palette='Set2');\n",
    "plt.title('AdoptionSpeed by Type and age');"
   ]
  },
  {
   "cell_type": "code",
   "execution_count": 35,
   "metadata": {
    "collapsed": true
   },
   "outputs": [],
   "source": [
    "#sns.swarmplot(x='AdoptionSpeed', y='Age', data=dfAll, palette='cubehelix')\n",
    "#plt.xlabel('AdoptionSpeed')\n",
    "#plt.ylabel('Age')\n",
    "#plt.show()"
   ]
  },
  {
   "cell_type": "code",
   "execution_count": 36,
   "metadata": {},
   "outputs": [
    {
     "data": {
      "text/html": [
       "<div>\n",
       "<style>\n",
       "    .dataframe thead tr:only-child th {\n",
       "        text-align: right;\n",
       "    }\n",
       "\n",
       "    .dataframe thead th {\n",
       "        text-align: left;\n",
       "    }\n",
       "\n",
       "    .dataframe tbody tr th {\n",
       "        vertical-align: top;\n",
       "    }\n",
       "</style>\n",
       "<table border=\"1\" class=\"dataframe\">\n",
       "  <thead>\n",
       "    <tr style=\"text-align: right;\">\n",
       "      <th></th>\n",
       "      <th>Age</th>\n",
       "      <th>Breed1</th>\n",
       "      <th>Breed2</th>\n",
       "      <th>Gender</th>\n",
       "      <th>Color1</th>\n",
       "      <th>Color2</th>\n",
       "      <th>Color3</th>\n",
       "      <th>MaturitySize</th>\n",
       "      <th>FurLength</th>\n",
       "      <th>Vaccinated</th>\n",
       "      <th>Dewormed</th>\n",
       "      <th>Sterilized</th>\n",
       "      <th>Health</th>\n",
       "      <th>Quantity</th>\n",
       "      <th>Fee</th>\n",
       "      <th>State</th>\n",
       "      <th>VideoAmt</th>\n",
       "      <th>PhotoAmt</th>\n",
       "      <th>AdoptionSpeed</th>\n",
       "      <th>Name_Len</th>\n",
       "      <th>Desc_Len</th>\n",
       "      <th>Color_count</th>\n",
       "      <th>magnitude</th>\n",
       "      <th>score</th>\n",
       "      <th>sentiment</th>\n",
       "    </tr>\n",
       "  </thead>\n",
       "  <tbody>\n",
       "    <tr>\n",
       "      <th>0</th>\n",
       "      <td>3</td>\n",
       "      <td>299</td>\n",
       "      <td>0</td>\n",
       "      <td>1</td>\n",
       "      <td>1</td>\n",
       "      <td>7</td>\n",
       "      <td>0</td>\n",
       "      <td>1</td>\n",
       "      <td>1</td>\n",
       "      <td>2</td>\n",
       "      <td>2</td>\n",
       "      <td>2</td>\n",
       "      <td>1</td>\n",
       "      <td>1</td>\n",
       "      <td>100</td>\n",
       "      <td>41326</td>\n",
       "      <td>0</td>\n",
       "      <td>1.0</td>\n",
       "      <td>2</td>\n",
       "      <td>6</td>\n",
       "      <td>6</td>\n",
       "      <td>2</td>\n",
       "      <td>2.4</td>\n",
       "      <td>0.3</td>\n",
       "      <td>0.72</td>\n",
       "    </tr>\n",
       "    <tr>\n",
       "      <th>1</th>\n",
       "      <td>1</td>\n",
       "      <td>265</td>\n",
       "      <td>0</td>\n",
       "      <td>1</td>\n",
       "      <td>1</td>\n",
       "      <td>2</td>\n",
       "      <td>0</td>\n",
       "      <td>2</td>\n",
       "      <td>2</td>\n",
       "      <td>3</td>\n",
       "      <td>3</td>\n",
       "      <td>3</td>\n",
       "      <td>1</td>\n",
       "      <td>1</td>\n",
       "      <td>0</td>\n",
       "      <td>41401</td>\n",
       "      <td>0</td>\n",
       "      <td>2.0</td>\n",
       "      <td>0</td>\n",
       "      <td>11</td>\n",
       "      <td>11</td>\n",
       "      <td>2</td>\n",
       "      <td>0.7</td>\n",
       "      <td>-0.2</td>\n",
       "      <td>-0.14</td>\n",
       "    </tr>\n",
       "    <tr>\n",
       "      <th>2</th>\n",
       "      <td>1</td>\n",
       "      <td>307</td>\n",
       "      <td>0</td>\n",
       "      <td>1</td>\n",
       "      <td>2</td>\n",
       "      <td>7</td>\n",
       "      <td>0</td>\n",
       "      <td>2</td>\n",
       "      <td>2</td>\n",
       "      <td>1</td>\n",
       "      <td>1</td>\n",
       "      <td>2</td>\n",
       "      <td>1</td>\n",
       "      <td>1</td>\n",
       "      <td>0</td>\n",
       "      <td>41326</td>\n",
       "      <td>0</td>\n",
       "      <td>7.0</td>\n",
       "      <td>3</td>\n",
       "      <td>6</td>\n",
       "      <td>6</td>\n",
       "      <td>2</td>\n",
       "      <td>3.7</td>\n",
       "      <td>0.2</td>\n",
       "      <td>0.74</td>\n",
       "    </tr>\n",
       "    <tr>\n",
       "      <th>3</th>\n",
       "      <td>4</td>\n",
       "      <td>307</td>\n",
       "      <td>0</td>\n",
       "      <td>2</td>\n",
       "      <td>1</td>\n",
       "      <td>2</td>\n",
       "      <td>0</td>\n",
       "      <td>2</td>\n",
       "      <td>1</td>\n",
       "      <td>1</td>\n",
       "      <td>1</td>\n",
       "      <td>2</td>\n",
       "      <td>1</td>\n",
       "      <td>1</td>\n",
       "      <td>150</td>\n",
       "      <td>41401</td>\n",
       "      <td>0</td>\n",
       "      <td>8.0</td>\n",
       "      <td>2</td>\n",
       "      <td>4</td>\n",
       "      <td>4</td>\n",
       "      <td>2</td>\n",
       "      <td>0.9</td>\n",
       "      <td>0.9</td>\n",
       "      <td>0.81</td>\n",
       "    </tr>\n",
       "    <tr>\n",
       "      <th>4</th>\n",
       "      <td>1</td>\n",
       "      <td>307</td>\n",
       "      <td>0</td>\n",
       "      <td>1</td>\n",
       "      <td>1</td>\n",
       "      <td>0</td>\n",
       "      <td>0</td>\n",
       "      <td>2</td>\n",
       "      <td>1</td>\n",
       "      <td>2</td>\n",
       "      <td>2</td>\n",
       "      <td>2</td>\n",
       "      <td>1</td>\n",
       "      <td>1</td>\n",
       "      <td>0</td>\n",
       "      <td>41326</td>\n",
       "      <td>0</td>\n",
       "      <td>3.0</td>\n",
       "      <td>2</td>\n",
       "      <td>6</td>\n",
       "      <td>6</td>\n",
       "      <td>1</td>\n",
       "      <td>3.7</td>\n",
       "      <td>0.6</td>\n",
       "      <td>2.22</td>\n",
       "    </tr>\n",
       "  </tbody>\n",
       "</table>\n",
       "</div>"
      ],
      "text/plain": [
       "   Age  Breed1  Breed2  Gender  Color1  Color2  Color3  MaturitySize  \\\n",
       "0    3     299       0       1       1       7       0             1   \n",
       "1    1     265       0       1       1       2       0             2   \n",
       "2    1     307       0       1       2       7       0             2   \n",
       "3    4     307       0       2       1       2       0             2   \n",
       "4    1     307       0       1       1       0       0             2   \n",
       "\n",
       "   FurLength  Vaccinated  Dewormed  Sterilized  Health  Quantity  Fee  State  \\\n",
       "0          1           2         2           2       1         1  100  41326   \n",
       "1          2           3         3           3       1         1    0  41401   \n",
       "2          2           1         1           2       1         1    0  41326   \n",
       "3          1           1         1           2       1         1  150  41401   \n",
       "4          1           2         2           2       1         1    0  41326   \n",
       "\n",
       "   VideoAmt  PhotoAmt  AdoptionSpeed  Name_Len  Desc_Len  Color_count  \\\n",
       "0         0       1.0              2         6         6            2   \n",
       "1         0       2.0              0        11        11            2   \n",
       "2         0       7.0              3         6         6            2   \n",
       "3         0       8.0              2         4         4            2   \n",
       "4         0       3.0              2         6         6            1   \n",
       "\n",
       "   magnitude  score  sentiment  \n",
       "0        2.4    0.3       0.72  \n",
       "1        0.7   -0.2      -0.14  \n",
       "2        3.7    0.2       0.74  \n",
       "3        0.9    0.9       0.81  \n",
       "4        3.7    0.6       2.22  "
      ]
     },
     "execution_count": 36,
     "metadata": {},
     "output_type": "execute_result"
    }
   ],
   "source": [
    "dfNum = dfAll.select_dtypes(include=[np.number])\n",
    "dfNum.head()"
   ]
  },
  {
   "cell_type": "code",
   "execution_count": 37,
   "metadata": {
    "collapsed": true
   },
   "outputs": [],
   "source": [
    "#dfNumonly = dfAll.select_dtypes(include=[np.number]).columns.tolist()"
   ]
  },
  {
   "cell_type": "code",
   "execution_count": 38,
   "metadata": {
    "collapsed": true
   },
   "outputs": [],
   "source": [
    "# Plot Correlation of features against Adoption Speed\n",
    "import matplotlib.pyplot as plt\n",
    "%matplotlib inline\n",
    "\n",
    "dfNum_corr = dfNum.corr().loc['AdoptionSpeed']"
   ]
  },
  {
   "cell_type": "code",
   "execution_count": 39,
   "metadata": {
    "collapsed": true
   },
   "outputs": [],
   "source": [
    "def conditional_bar(series, bar_colors=None, color_labels=None, figsize=(8,10),\n",
    "                   xlabel=None, by=None, ylabel=None, title=None):\n",
    "    fig, ax  = plt.subplots(figsize=figsize)\n",
    "    if not bar_colors:\n",
    "        bar_colors = mpl.rcParams['axes.prop_cycle'].by_key()['color'][0]\n",
    "    plt.barh(range(len(series)),series.values, color=bar_colors)\n",
    "    plt.xlabel('' if not xlabel else xlabel);\n",
    "    plt.ylabel('' if not ylabel else ylabel)\n",
    "    plt.yticks(range(len(series)), series.index.tolist())\n",
    "    plt.title('' if not title else title);\n",
    "    plt.ylim([-1,len(series)]);\n",
    "    if color_labels:\n",
    "        for col, lab in color_labels.items():\n",
    "            plt.plot([], linestyle='',marker='s',c=col, label= lab);\n",
    "        lines, labels = ax.get_legend_handles_labels();\n",
    "        ax.legend(lines[-len(color_labels.keys()):], labels[-len(color_labels.keys()):], loc='upper right');\n",
    "    plt.close()\n",
    "    fig.savefig('../images/DF_corr.png', bbox_inches='tight')\n",
    "    return fig"
   ]
  },
  {
   "cell_type": "code",
   "execution_count": 40,
   "metadata": {
    "collapsed": true
   },
   "outputs": [],
   "source": [
    "train_corr = train.corr()"
   ]
  },
  {
   "cell_type": "code",
   "execution_count": 41,
   "metadata": {},
   "outputs": [
    {
     "data": {
      "image/png": "[encoded data removed]",
      "text/plain": [
       "<matplotlib.figure.Figure at 0x127f2f908>"
      ]
     },
     "metadata": {},
     "output_type": "display_data"
    }
   ],
   "source": [
    "import seaborn as sns\n",
    "\n",
    "fig = plt.figure(figsize=(8,8))\n",
    "sns.heatmap(train_corr)\n",
    "plt.title('covariance plot')\n",
    "fig.savefig('../images/heatmap.png', bbox_inches='tight')"
   ]
  },
  {
   "cell_type": "code",
   "execution_count": 42,
   "metadata": {},
   "outputs": [
    {
     "data": {
      "image/png": "[encoded data removed]",
      "text/plain": [
       "<matplotlib.figure.Figure at 0x121c45ac8>"
      ]
     },
     "execution_count": 42,
     "metadata": {},
     "output_type": "execute_result"
    }
   ],
   "source": [
    "bar_colors = ['#0055A7' if x else '#2C3E4F' for x in list(dfNum_corr.values < 0)]\n",
    "color_labels = {'#0055A7':'Negative correlation', '#2C3E4F':'Positive correlation'}\n",
    "\n",
    "conditional_bar(dfNum_corr.apply(np.abs), bar_colors, color_labels,\n",
    "               title='Magnitude of correlation with AdoptionSpeed',\n",
    "               xlabel='|Correlation|')"
   ]
  },
  {
   "cell_type": "code",
   "execution_count": 43,
   "metadata": {
    "collapsed": true
   },
   "outputs": [],
   "source": [
    "corr_num_cols = ['sentiment', 'score', 'Color_count', 'Desc_Len', 'Name_Len', 'PhotoAmt', 'Quantity', 'MaturitySize', 'Age']\n",
    "corr_cat_cols = ['Health','Sterilized','Dewormed', 'Vaccinated', 'FurLength', 'Color1', 'Color2', 'Color3','Gender',\n",
    "                 'Breed2', 'Breed1']"
   ]
  },
  {
   "cell_type": "code",
   "execution_count": 44,
   "metadata": {
    "collapsed": true
   },
   "outputs": [],
   "source": [
    "# Plot histogram for categorical features i.e. Breed, Color, State\n",
    "\n",
    "# Name Frequency and Adoptability"
   ]
  },
  {
   "cell_type": "code",
   "execution_count": 45,
   "metadata": {},
   "outputs": [
    {
     "data": {
      "image/png": "[encoded data removed]",
      "text/plain": [
       "<matplotlib.figure.Figure at 0x124c42d68>"
      ]
     },
     "metadata": {},
     "output_type": "display_data"
    }
   ],
   "source": [
    "sns.countplot(x=\"Color1_name\", hue=\"Type\", data=dfAll, palette='Set2')\n",
    "plt.title('Distribution of pets (Colors) by Type')\n",
    "plt.show()"
   ]
  },
  {
   "cell_type": "code",
   "execution_count": 46,
   "metadata": {},
   "outputs": [
    {
     "data": {
      "text/plain": [
       "0    2\n",
       "1    2\n",
       "2    2\n",
       "3    2\n",
       "4    1\n",
       "5    2\n",
       "6    1\n",
       "7    3\n",
       "8    1\n",
       "9    2\n",
       "Name: Color_count, dtype: int64"
      ]
     },
     "execution_count": 46,
     "metadata": {},
     "output_type": "execute_result"
    }
   ],
   "source": [
    "dfAll['Color_count'][:10]"
   ]
  },
  {
   "cell_type": "code",
   "execution_count": 47,
   "metadata": {},
   "outputs": [
    {
     "data": {
      "text/plain": [
       "Dog    8132\n",
       "Cat    6861\n",
       "Name: Type, dtype: int64"
      ]
     },
     "execution_count": 47,
     "metadata": {},
     "output_type": "execute_result"
    }
   ],
   "source": [
    "dfAll.Type.value_counts()"
   ]
  },
  {
   "cell_type": "code",
   "execution_count": 48,
   "metadata": {},
   "outputs": [
    {
     "data": {
      "image/png": "[encoded data removed]",
      "text/plain": [
       "<matplotlib.figure.Figure at 0x127f25860>"
      ]
     },
     "metadata": {},
     "output_type": "display_data"
    }
   ],
   "source": [
    "sns.countplot(x=\"Color_count\", hue=\"Type\", data=dfAll, palette='Set2')\n",
    "plt.title('Distribution of Number of Colors for Pets')\n",
    "plt.show()"
   ]
  },
  {
   "cell_type": "code",
   "execution_count": 49,
   "metadata": {},
   "outputs": [
    {
     "data": {
      "image/png": "[encoded data removed]",
      "text/plain": [
       "<matplotlib.figure.Figure at 0x1272386d8>"
      ]
     },
     "metadata": {},
     "output_type": "display_data"
    }
   ],
   "source": [
    "#sns.countplot(x=\"Color_count\", hue=\"Type\", data=dfAll, palette='Set2')\n",
    "fig = plt.figure(figsize=(10,10))\n",
    "#sns.barplot(x='Type', y='Color_count', hue='AdoptionSpeed', data=dfAll, palette='Set2')\n",
    "plt.subplot(2,1,1)\n",
    "sns.countplot(x=\"Color_count\", hue=\"AdoptionSpeed\", data=dfAll[dfAll.Type=='Dog'], palette='Set2')\n",
    "plt.xlabel('# Colors')\n",
    "plt.ylabel('Count')\n",
    "plt.title('Distribution of Number of Colors and Adoption Speed (Dogs)')\n",
    "plt.subplot(2,1,2)\n",
    "sns.countplot(x=\"Color_count\", hue=\"AdoptionSpeed\", data=dfAll[dfAll.Type=='Cat'], palette='Set2')\n",
    "plt.xlabel('# Colors')\n",
    "plt.ylabel('Count')\n",
    "plt.title('Distribution of Number of Colors and Adoption Speed (Cats)')\n",
    "fig.savefig('../images/numcolors.png', bbox_inches='tight')"
   ]
  },
  {
   "cell_type": "code",
   "execution_count": 90,
   "metadata": {
    "collapsed": true
   },
   "outputs": [],
   "source": [
    "dogs = dfAll[dfAll.Type=='Dog']\n",
    "cats = dfAll[dfAll.Type=='Cat']\n",
    "\n",
    "health = ['1_1_1_1', '1_2_1_1', '1_1_2_1', '1_2_2_1', '2_2_2_1', '3_3_3_1']"
   ]
  },
  {
   "cell_type": "code",
   "execution_count": 104,
   "metadata": {},
   "outputs": [
    {
     "data": {
      "image/png": "[encoded data removed]",
      "text/plain": [
       "<matplotlib.figure.Figure at 0x12d83a7f0>"
      ]
     },
     "metadata": {},
     "output_type": "display_data"
    }
   ],
   "source": [
    "fig = plt.figure(figsize=(12,15))\n",
    "\n",
    "\n",
    "for i, label in enumerate(health):\n",
    "    plt.subplot(2,3,i+1)\n",
    "    sns.countplot(x=\"age_cat\", hue=\"AdoptionSpeed\", \n",
    "                  data=dogs[dogs.health==label], palette='Set1')\n",
    "    plt.xlabel('age_cat')\n",
    "    plt.ylabel('Count')\n",
    "    plt.xticks(rotation=25)\n",
    "    plt.title('DOGS by Age Category: health {}'.format(label))\n",
    "    \n",
    "fig.savefig('../images/Doghealth_x_Age.png', bbox_inches='tight')"
   ]
  },
  {
   "cell_type": "code",
   "execution_count": 105,
   "metadata": {},
   "outputs": [
    {
     "data": {
      "image/png": "[encoded data removed]",
      "text/plain": [
       "<matplotlib.figure.Figure at 0x12c0539e8>"
      ]
     },
     "metadata": {},
     "output_type": "display_data"
    }
   ],
   "source": [
    "fig = plt.figure(figsize=(12,15))\n",
    "\n",
    "\n",
    "for i, label in enumerate(health):\n",
    "    plt.subplot(2,3,i+1)\n",
    "    sns.countplot(x=\"age_cat\", hue=\"AdoptionSpeed\", \n",
    "                  data=cats[cats.health==label], palette='Set2')\n",
    "    plt.xlabel('age_cat')\n",
    "    plt.ylabel('Count')\n",
    "    plt.xticks(rotation=25)\n",
    "    plt.title('CATS by Age Category: health {}'.format(label))\n",
    "    \n",
    "fig.savefig('../images/Catshealth_x_Age.png', bbox_inches='tight')"
   ]
  },
  {
   "cell_type": "code",
   "execution_count": 119,
   "metadata": {},
   "outputs": [
    {
     "name": "stdout",
     "output_type": "stream",
     "text": [
      "<class 'pandas.core.frame.DataFrame'>\n",
      "Int64Index: 14993 entries, 0 to 14992\n",
      "Data columns (total 39 columns):\n",
      "Type             14993 non-null object\n",
      "Name             14993 non-null object\n",
      "Age              14993 non-null int64\n",
      "Breed1           14993 non-null int64\n",
      "Breed2           14993 non-null int64\n",
      "Gender           14993 non-null int64\n",
      "Color1           14993 non-null int64\n",
      "Color2           14993 non-null int64\n",
      "Color3           14993 non-null int64\n",
      "MaturitySize     14993 non-null int64\n",
      "FurLength        14993 non-null int64\n",
      "Vaccinated       14993 non-null int64\n",
      "Dewormed         14993 non-null int64\n",
      "Sterilized       14993 non-null int64\n",
      "Health           14993 non-null int64\n",
      "Quantity         14993 non-null int64\n",
      "Fee              14993 non-null int64\n",
      "State            14993 non-null int64\n",
      "RescuerID        14993 non-null object\n",
      "VideoAmt         14993 non-null int64\n",
      "Description      14993 non-null object\n",
      "PetID            14993 non-null object\n",
      "PhotoAmt         14993 non-null float64\n",
      "AdoptionSpeed    14993 non-null int64\n",
      "Name_Ind         14993 non-null object\n",
      "Name_Len         14993 non-null int64\n",
      "Breed_Ind        14993 non-null object\n",
      "Desc_Len         14993 non-null int64\n",
      "Color_count      14993 non-null int64\n",
      "health           14993 non-null object\n",
      "age_cat          14993 non-null object\n",
      "Color1_name      14993 non-null object\n",
      "Color2_name      14993 non-null object\n",
      "Color3_name      14993 non-null object\n",
      "Breed1_name      14993 non-null object\n",
      "Breed2_name      14993 non-null object\n",
      "magnitude        14993 non-null float64\n",
      "score            14993 non-null float64\n",
      "sentiment        14993 non-null float64\n",
      "dtypes: float64(4), int64(21), object(14)\n",
      "memory usage: 5.2+ MB\n"
     ]
    }
   ],
   "source": [
    "dfAll.info()"
   ]
  },
  {
   "cell_type": "code",
   "execution_count": 123,
   "metadata": {},
   "outputs": [
    {
     "data": {
      "image/png": "[encoded data removed]",
      "text/plain": [
       "<matplotlib.figure.Figure at 0x12d9f1fd0>"
      ]
     },
     "metadata": {},
     "output_type": "display_data"
    }
   ],
   "source": [
    "plt.scatter(dfAll['Quantity'], dfAll['Name_Len'], color='seagreen', alpha=0.4, label='Group 0')\n",
    "plt.xlabel('Quantity')\n",
    "plt.ylabel('Description Length')\n",
    "plt.show()"
   ]
  },
  {
   "cell_type": "code",
   "execution_count": 116,
   "metadata": {},
   "outputs": [
    {
     "data": {
      "text/plain": [
       "Index(['Type', 'Name', 'Age', 'Breed1', 'Breed2', 'Gender', 'Color1', 'Color2',\n",
       "       'Color3', 'MaturitySize', 'FurLength', 'Vaccinated', 'Dewormed',\n",
       "       'Sterilized', 'Health', 'Quantity', 'Fee', 'State', 'RescuerID',\n",
       "       'VideoAmt', 'Description', 'PetID', 'PhotoAmt', 'AdoptionSpeed'],\n",
       "      dtype='object')"
      ]
     },
     "execution_count": 116,
     "metadata": {},
     "output_type": "execute_result"
    }
   ],
   "source": [
    "train.columns"
   ]
  },
  {
   "cell_type": "code",
   "execution_count": 53,
   "metadata": {},
   "outputs": [
    {
     "data": {
      "text/html": [
       "<div>\n",
       "<style>\n",
       "    .dataframe thead tr:only-child th {\n",
       "        text-align: right;\n",
       "    }\n",
       "\n",
       "    .dataframe thead th {\n",
       "        text-align: left;\n",
       "    }\n",
       "\n",
       "    .dataframe tbody tr th {\n",
       "        vertical-align: top;\n",
       "    }\n",
       "</style>\n",
       "<table border=\"1\" class=\"dataframe\">\n",
       "  <thead>\n",
       "    <tr style=\"text-align: right;\">\n",
       "      <th></th>\n",
       "      <th>BreedID</th>\n",
       "      <th>Type</th>\n",
       "      <th>BreedName</th>\n",
       "    </tr>\n",
       "  </thead>\n",
       "  <tbody>\n",
       "    <tr>\n",
       "      <th>75</th>\n",
       "      <td>76</td>\n",
       "      <td>1</td>\n",
       "      <td>Dalmatian</td>\n",
       "    </tr>\n",
       "    <tr>\n",
       "      <th>240</th>\n",
       "      <td>307</td>\n",
       "      <td>1</td>\n",
       "      <td>Mixed Breed</td>\n",
       "    </tr>\n",
       "  </tbody>\n",
       "</table>\n",
       "</div>"
      ],
      "text/plain": [
       "     BreedID  Type    BreedName\n",
       "75        76     1    Dalmatian\n",
       "240      307     1  Mixed Breed"
      ]
     },
     "execution_count": 53,
     "metadata": {},
     "output_type": "execute_result"
    }
   ],
   "source": [
    "breed[breed.BreedID.isin([307,76])]"
   ]
  },
  {
   "cell_type": "code",
   "execution_count": 54,
   "metadata": {},
   "outputs": [
    {
     "data": {
      "text/html": [
       "<div>\n",
       "<style>\n",
       "    .dataframe thead tr:only-child th {\n",
       "        text-align: right;\n",
       "    }\n",
       "\n",
       "    .dataframe thead th {\n",
       "        text-align: left;\n",
       "    }\n",
       "\n",
       "    .dataframe tbody tr th {\n",
       "        vertical-align: top;\n",
       "    }\n",
       "</style>\n",
       "<table border=\"1\" class=\"dataframe\">\n",
       "  <thead>\n",
       "    <tr style=\"text-align: right;\">\n",
       "      <th></th>\n",
       "      <th>5290</th>\n",
       "    </tr>\n",
       "  </thead>\n",
       "  <tbody>\n",
       "    <tr>\n",
       "      <th>Type</th>\n",
       "      <td>1</td>\n",
       "    </tr>\n",
       "    <tr>\n",
       "      <th>Name</th>\n",
       "      <td>Fenny</td>\n",
       "    </tr>\n",
       "    <tr>\n",
       "      <th>Age</th>\n",
       "      <td>5</td>\n",
       "    </tr>\n",
       "    <tr>\n",
       "      <th>Breed1</th>\n",
       "      <td>307</td>\n",
       "    </tr>\n",
       "    <tr>\n",
       "      <th>Breed2</th>\n",
       "      <td>76</td>\n",
       "    </tr>\n",
       "    <tr>\n",
       "      <th>Gender</th>\n",
       "      <td>2</td>\n",
       "    </tr>\n",
       "    <tr>\n",
       "      <th>Color1</th>\n",
       "      <td>1</td>\n",
       "    </tr>\n",
       "    <tr>\n",
       "      <th>Color2</th>\n",
       "      <td>6</td>\n",
       "    </tr>\n",
       "    <tr>\n",
       "      <th>Color3</th>\n",
       "      <td>7</td>\n",
       "    </tr>\n",
       "    <tr>\n",
       "      <th>MaturitySize</th>\n",
       "      <td>2</td>\n",
       "    </tr>\n",
       "    <tr>\n",
       "      <th>FurLength</th>\n",
       "      <td>2</td>\n",
       "    </tr>\n",
       "    <tr>\n",
       "      <th>Vaccinated</th>\n",
       "      <td>1</td>\n",
       "    </tr>\n",
       "    <tr>\n",
       "      <th>Dewormed</th>\n",
       "      <td>1</td>\n",
       "    </tr>\n",
       "    <tr>\n",
       "      <th>Sterilized</th>\n",
       "      <td>2</td>\n",
       "    </tr>\n",
       "    <tr>\n",
       "      <th>Health</th>\n",
       "      <td>1</td>\n",
       "    </tr>\n",
       "    <tr>\n",
       "      <th>Quantity</th>\n",
       "      <td>1</td>\n",
       "    </tr>\n",
       "    <tr>\n",
       "      <th>Fee</th>\n",
       "      <td>0</td>\n",
       "    </tr>\n",
       "    <tr>\n",
       "      <th>State</th>\n",
       "      <td>41326</td>\n",
       "    </tr>\n",
       "    <tr>\n",
       "      <th>RescuerID</th>\n",
       "      <td>a042471e0f43f2cf707104a1a138a7df</td>\n",
       "    </tr>\n",
       "    <tr>\n",
       "      <th>VideoAmt</th>\n",
       "      <td>0</td>\n",
       "    </tr>\n",
       "    <tr>\n",
       "      <th>Description</th>\n",
       "      <td>Fenny was rescued from Old Klang Rd market whe...</td>\n",
       "    </tr>\n",
       "    <tr>\n",
       "      <th>PetID</th>\n",
       "      <td>0a0e8c15b</td>\n",
       "    </tr>\n",
       "    <tr>\n",
       "      <th>PhotoAmt</th>\n",
       "      <td>2</td>\n",
       "    </tr>\n",
       "    <tr>\n",
       "      <th>AdoptionSpeed</th>\n",
       "      <td>4</td>\n",
       "    </tr>\n",
       "  </tbody>\n",
       "</table>\n",
       "</div>"
      ],
      "text/plain": [
       "                                                            5290\n",
       "Type                                                           1\n",
       "Name                                                       Fenny\n",
       "Age                                                            5\n",
       "Breed1                                                       307\n",
       "Breed2                                                        76\n",
       "Gender                                                         2\n",
       "Color1                                                         1\n",
       "Color2                                                         6\n",
       "Color3                                                         7\n",
       "MaturitySize                                                   2\n",
       "FurLength                                                      2\n",
       "Vaccinated                                                     1\n",
       "Dewormed                                                       1\n",
       "Sterilized                                                     2\n",
       "Health                                                         1\n",
       "Quantity                                                       1\n",
       "Fee                                                            0\n",
       "State                                                      41326\n",
       "RescuerID                       a042471e0f43f2cf707104a1a138a7df\n",
       "VideoAmt                                                       0\n",
       "Description    Fenny was rescued from Old Klang Rd market whe...\n",
       "PetID                                                  0a0e8c15b\n",
       "PhotoAmt                                                       2\n",
       "AdoptionSpeed                                                  4"
      ]
     },
     "execution_count": 54,
     "metadata": {},
     "output_type": "execute_result"
    }
   ],
   "source": [
    "train[train['PetID']=='0a0e8c15b'].T"
   ]
  },
  {
   "cell_type": "code",
   "execution_count": 55,
   "metadata": {},
   "outputs": [
    {
     "data": {
      "text/plain": [
       "\"Nibble is a 3+ month old ball of cuteness. He is energetic and playful. I rescued a couple of cats a few months ago but could not get them neutered in time as the clinic was fully scheduled. The result was this little kitty. I do not have enough space and funds to care for more cats in my household. Looking for responsible people to take over Nibble's care.\""
      ]
     },
     "execution_count": 55,
     "metadata": {},
     "output_type": "execute_result"
    }
   ],
   "source": [
    "train['Description'][0]"
   ]
  },
  {
   "cell_type": "code",
   "execution_count": 56,
   "metadata": {
    "collapsed": true
   },
   "outputs": [
    {
     "data": {
      "text/html": [
       "<div>\n",
       "<style>\n",
       "    .dataframe thead tr:only-child th {\n",
       "        text-align: right;\n",
       "    }\n",
       "\n",
       "    .dataframe thead th {\n",
       "        text-align: left;\n",
       "    }\n",
       "\n",
       "    .dataframe tbody tr th {\n",
       "        vertical-align: top;\n",
       "    }\n",
       "</style>\n",
       "<table border=\"1\" class=\"dataframe\">\n",
       "  <thead>\n",
       "    <tr style=\"text-align: right;\">\n",
       "      <th></th>\n",
       "      <th>0</th>\n",
       "      <th>1</th>\n",
       "      <th>2</th>\n",
       "      <th>3</th>\n",
       "      <th>4</th>\n",
       "    </tr>\n",
       "  </thead>\n",
       "  <tbody>\n",
       "    <tr>\n",
       "      <th>Type</th>\n",
       "      <td>Cat</td>\n",
       "      <td>Cat</td>\n",
       "      <td>Dog</td>\n",
       "      <td>Dog</td>\n",
       "      <td>Dog</td>\n",
       "    </tr>\n",
       "    <tr>\n",
       "      <th>Name</th>\n",
       "      <td>Nibble</td>\n",
       "      <td>No Name Yet</td>\n",
       "      <td>Brisco</td>\n",
       "      <td>Miko</td>\n",
       "      <td>Hunter</td>\n",
       "    </tr>\n",
       "    <tr>\n",
       "      <th>Age</th>\n",
       "      <td>3</td>\n",
       "      <td>1</td>\n",
       "      <td>1</td>\n",
       "      <td>4</td>\n",
       "      <td>1</td>\n",
       "    </tr>\n",
       "    <tr>\n",
       "      <th>Breed1</th>\n",
       "      <td>299</td>\n",
       "      <td>265</td>\n",
       "      <td>307</td>\n",
       "      <td>307</td>\n",
       "      <td>307</td>\n",
       "    </tr>\n",
       "    <tr>\n",
       "      <th>Breed2</th>\n",
       "      <td>0</td>\n",
       "      <td>0</td>\n",
       "      <td>0</td>\n",
       "      <td>0</td>\n",
       "      <td>0</td>\n",
       "    </tr>\n",
       "    <tr>\n",
       "      <th>Gender</th>\n",
       "      <td>1</td>\n",
       "      <td>1</td>\n",
       "      <td>1</td>\n",
       "      <td>2</td>\n",
       "      <td>1</td>\n",
       "    </tr>\n",
       "    <tr>\n",
       "      <th>Color1</th>\n",
       "      <td>1</td>\n",
       "      <td>1</td>\n",
       "      <td>2</td>\n",
       "      <td>1</td>\n",
       "      <td>1</td>\n",
       "    </tr>\n",
       "    <tr>\n",
       "      <th>Color2</th>\n",
       "      <td>7</td>\n",
       "      <td>2</td>\n",
       "      <td>7</td>\n",
       "      <td>2</td>\n",
       "      <td>0</td>\n",
       "    </tr>\n",
       "    <tr>\n",
       "      <th>Color3</th>\n",
       "      <td>0</td>\n",
       "      <td>0</td>\n",
       "      <td>0</td>\n",
       "      <td>0</td>\n",
       "      <td>0</td>\n",
       "    </tr>\n",
       "    <tr>\n",
       "      <th>MaturitySize</th>\n",
       "      <td>1</td>\n",
       "      <td>2</td>\n",
       "      <td>2</td>\n",
       "      <td>2</td>\n",
       "      <td>2</td>\n",
       "    </tr>\n",
       "    <tr>\n",
       "      <th>FurLength</th>\n",
       "      <td>1</td>\n",
       "      <td>2</td>\n",
       "      <td>2</td>\n",
       "      <td>1</td>\n",
       "      <td>1</td>\n",
       "    </tr>\n",
       "    <tr>\n",
       "      <th>Vaccinated</th>\n",
       "      <td>2</td>\n",
       "      <td>3</td>\n",
       "      <td>1</td>\n",
       "      <td>1</td>\n",
       "      <td>2</td>\n",
       "    </tr>\n",
       "    <tr>\n",
       "      <th>Dewormed</th>\n",
       "      <td>2</td>\n",
       "      <td>3</td>\n",
       "      <td>1</td>\n",
       "      <td>1</td>\n",
       "      <td>2</td>\n",
       "    </tr>\n",
       "    <tr>\n",
       "      <th>Sterilized</th>\n",
       "      <td>2</td>\n",
       "      <td>3</td>\n",
       "      <td>2</td>\n",
       "      <td>2</td>\n",
       "      <td>2</td>\n",
       "    </tr>\n",
       "    <tr>\n",
       "      <th>Health</th>\n",
       "      <td>1</td>\n",
       "      <td>1</td>\n",
       "      <td>1</td>\n",
       "      <td>1</td>\n",
       "      <td>1</td>\n",
       "    </tr>\n",
       "    <tr>\n",
       "      <th>Quantity</th>\n",
       "      <td>1</td>\n",
       "      <td>1</td>\n",
       "      <td>1</td>\n",
       "      <td>1</td>\n",
       "      <td>1</td>\n",
       "    </tr>\n",
       "    <tr>\n",
       "      <th>Fee</th>\n",
       "      <td>100</td>\n",
       "      <td>0</td>\n",
       "      <td>0</td>\n",
       "      <td>150</td>\n",
       "      <td>0</td>\n",
       "    </tr>\n",
       "    <tr>\n",
       "      <th>State</th>\n",
       "      <td>41326</td>\n",
       "      <td>41401</td>\n",
       "      <td>41326</td>\n",
       "      <td>41401</td>\n",
       "      <td>41326</td>\n",
       "    </tr>\n",
       "    <tr>\n",
       "      <th>RescuerID</th>\n",
       "      <td>8480853f516546f6cf33aa88cd76c379</td>\n",
       "      <td>3082c7125d8fb66f7dd4bff4192c8b14</td>\n",
       "      <td>fa90fa5b1ee11c86938398b60abc32cb</td>\n",
       "      <td>9238e4f44c71a75282e62f7136c6b240</td>\n",
       "      <td>95481e953f8aed9ec3d16fc4509537e8</td>\n",
       "    </tr>\n",
       "    <tr>\n",
       "      <th>VideoAmt</th>\n",
       "      <td>0</td>\n",
       "      <td>0</td>\n",
       "      <td>0</td>\n",
       "      <td>0</td>\n",
       "      <td>0</td>\n",
       "    </tr>\n",
       "    <tr>\n",
       "      <th>Description</th>\n",
       "      <td>Nibble</td>\n",
       "      <td>No Name Yet</td>\n",
       "      <td>Brisco</td>\n",
       "      <td>Miko</td>\n",
       "      <td>Hunter</td>\n",
       "    </tr>\n",
       "    <tr>\n",
       "      <th>PetID</th>\n",
       "      <td>86e1089a3</td>\n",
       "      <td>6296e909a</td>\n",
       "      <td>3422e4906</td>\n",
       "      <td>5842f1ff5</td>\n",
       "      <td>850a43f90</td>\n",
       "    </tr>\n",
       "    <tr>\n",
       "      <th>PhotoAmt</th>\n",
       "      <td>1</td>\n",
       "      <td>2</td>\n",
       "      <td>7</td>\n",
       "      <td>8</td>\n",
       "      <td>3</td>\n",
       "    </tr>\n",
       "    <tr>\n",
       "      <th>AdoptionSpeed</th>\n",
       "      <td>2</td>\n",
       "      <td>0</td>\n",
       "      <td>3</td>\n",
       "      <td>2</td>\n",
       "      <td>2</td>\n",
       "    </tr>\n",
       "    <tr>\n",
       "      <th>Name_Ind</th>\n",
       "      <td>withName</td>\n",
       "      <td>withName</td>\n",
       "      <td>withName</td>\n",
       "      <td>withName</td>\n",
       "      <td>withName</td>\n",
       "    </tr>\n",
       "    <tr>\n",
       "      <th>Name_Len</th>\n",
       "      <td>6</td>\n",
       "      <td>11</td>\n",
       "      <td>6</td>\n",
       "      <td>4</td>\n",
       "      <td>6</td>\n",
       "    </tr>\n",
       "    <tr>\n",
       "      <th>Breed_Ind</th>\n",
       "      <td>Pure</td>\n",
       "      <td>Pure</td>\n",
       "      <td>Pure</td>\n",
       "      <td>Pure</td>\n",
       "      <td>Pure</td>\n",
       "    </tr>\n",
       "    <tr>\n",
       "      <th>Desc_Len</th>\n",
       "      <td>6</td>\n",
       "      <td>11</td>\n",
       "      <td>6</td>\n",
       "      <td>4</td>\n",
       "      <td>6</td>\n",
       "    </tr>\n",
       "    <tr>\n",
       "      <th>Color_count</th>\n",
       "      <td>2</td>\n",
       "      <td>2</td>\n",
       "      <td>2</td>\n",
       "      <td>2</td>\n",
       "      <td>1</td>\n",
       "    </tr>\n",
       "    <tr>\n",
       "      <th>health</th>\n",
       "      <td>2_2_2_1</td>\n",
       "      <td>3_3_3_1</td>\n",
       "      <td>1_1_2_1</td>\n",
       "      <td>1_1_2_1</td>\n",
       "      <td>2_2_2_1</td>\n",
       "    </tr>\n",
       "    <tr>\n",
       "      <th>age_cat</th>\n",
       "      <td>cat_2_5</td>\n",
       "      <td>cat_0_1</td>\n",
       "      <td>dog_0_23</td>\n",
       "      <td>dog_0_23</td>\n",
       "      <td>dog_0_23</td>\n",
       "    </tr>\n",
       "    <tr>\n",
       "      <th>Color1_name</th>\n",
       "      <td>Black</td>\n",
       "      <td>Black</td>\n",
       "      <td>Brown</td>\n",
       "      <td>Black</td>\n",
       "      <td>Black</td>\n",
       "    </tr>\n",
       "    <tr>\n",
       "      <th>Color2_name</th>\n",
       "      <td>W_h_i_t_e</td>\n",
       "      <td>B_r_o_w_n</td>\n",
       "      <td>W_h_i_t_e</td>\n",
       "      <td>B_r_o_w_n</td>\n",
       "      <td>-</td>\n",
       "    </tr>\n",
       "    <tr>\n",
       "      <th>Color3_name</th>\n",
       "      <td>-</td>\n",
       "      <td>-</td>\n",
       "      <td>-</td>\n",
       "      <td>-</td>\n",
       "      <td>-</td>\n",
       "    </tr>\n",
       "    <tr>\n",
       "      <th>Breed1_name</th>\n",
       "      <td>Tabby</td>\n",
       "      <td>Domestic_Medium_Hair</td>\n",
       "      <td>Mixed_Breed</td>\n",
       "      <td>Mixed_Breed</td>\n",
       "      <td>Mixed_Breed</td>\n",
       "    </tr>\n",
       "    <tr>\n",
       "      <th>Breed2_name</th>\n",
       "      <td>-</td>\n",
       "      <td>-</td>\n",
       "      <td>-</td>\n",
       "      <td>-</td>\n",
       "      <td>-</td>\n",
       "    </tr>\n",
       "    <tr>\n",
       "      <th>magnitude</th>\n",
       "      <td>2.4</td>\n",
       "      <td>0.7</td>\n",
       "      <td>3.7</td>\n",
       "      <td>0.9</td>\n",
       "      <td>3.7</td>\n",
       "    </tr>\n",
       "    <tr>\n",
       "      <th>score</th>\n",
       "      <td>0.3</td>\n",
       "      <td>-0.2</td>\n",
       "      <td>0.2</td>\n",
       "      <td>0.9</td>\n",
       "      <td>0.6</td>\n",
       "    </tr>\n",
       "    <tr>\n",
       "      <th>sentiment</th>\n",
       "      <td>0.72</td>\n",
       "      <td>-0.14</td>\n",
       "      <td>0.74</td>\n",
       "      <td>0.81</td>\n",
       "      <td>2.22</td>\n",
       "    </tr>\n",
       "  </tbody>\n",
       "</table>\n",
       "</div>"
      ],
      "text/plain": [
       "                                              0  \\\n",
       "Type                                        Cat   \n",
       "Name                                     Nibble   \n",
       "Age                                           3   \n",
       "Breed1                                      299   \n",
       "Breed2                                        0   \n",
       "Gender                                        1   \n",
       "Color1                                        1   \n",
       "Color2                                        7   \n",
       "Color3                                        0   \n",
       "MaturitySize                                  1   \n",
       "FurLength                                     1   \n",
       "Vaccinated                                    2   \n",
       "Dewormed                                      2   \n",
       "Sterilized                                    2   \n",
       "Health                                        1   \n",
       "Quantity                                      1   \n",
       "Fee                                         100   \n",
       "State                                     41326   \n",
       "RescuerID      8480853f516546f6cf33aa88cd76c379   \n",
       "VideoAmt                                      0   \n",
       "Description                              Nibble   \n",
       "PetID                                 86e1089a3   \n",
       "PhotoAmt                                      1   \n",
       "AdoptionSpeed                                 2   \n",
       "Name_Ind                               withName   \n",
       "Name_Len                                      6   \n",
       "Breed_Ind                                  Pure   \n",
       "Desc_Len                                      6   \n",
       "Color_count                                   2   \n",
       "health                                  2_2_2_1   \n",
       "age_cat                                 cat_2_5   \n",
       "Color1_name                               Black   \n",
       "Color2_name                           W_h_i_t_e   \n",
       "Color3_name                                   -   \n",
       "Breed1_name                               Tabby   \n",
       "Breed2_name                                   -   \n",
       "magnitude                                   2.4   \n",
       "score                                       0.3   \n",
       "sentiment                                  0.72   \n",
       "\n",
       "                                              1  \\\n",
       "Type                                        Cat   \n",
       "Name                                No Name Yet   \n",
       "Age                                           1   \n",
       "Breed1                                      265   \n",
       "Breed2                                        0   \n",
       "Gender                                        1   \n",
       "Color1                                        1   \n",
       "Color2                                        2   \n",
       "Color3                                        0   \n",
       "MaturitySize                                  2   \n",
       "FurLength                                     2   \n",
       "Vaccinated                                    3   \n",
       "Dewormed                                      3   \n",
       "Sterilized                                    3   \n",
       "Health                                        1   \n",
       "Quantity                                      1   \n",
       "Fee                                           0   \n",
       "State                                     41401   \n",
       "RescuerID      3082c7125d8fb66f7dd4bff4192c8b14   \n",
       "VideoAmt                                      0   \n",
       "Description                         No Name Yet   \n",
       "PetID                                 6296e909a   \n",
       "PhotoAmt                                      2   \n",
       "AdoptionSpeed                                 0   \n",
       "Name_Ind                               withName   \n",
       "Name_Len                                     11   \n",
       "Breed_Ind                                  Pure   \n",
       "Desc_Len                                     11   \n",
       "Color_count                                   2   \n",
       "health                                  3_3_3_1   \n",
       "age_cat                                 cat_0_1   \n",
       "Color1_name                               Black   \n",
       "Color2_name                           B_r_o_w_n   \n",
       "Color3_name                                   -   \n",
       "Breed1_name                Domestic_Medium_Hair   \n",
       "Breed2_name                                   -   \n",
       "magnitude                                   0.7   \n",
       "score                                      -0.2   \n",
       "sentiment                                 -0.14   \n",
       "\n",
       "                                              2  \\\n",
       "Type                                        Dog   \n",
       "Name                                     Brisco   \n",
       "Age                                           1   \n",
       "Breed1                                      307   \n",
       "Breed2                                        0   \n",
       "Gender                                        1   \n",
       "Color1                                        2   \n",
       "Color2                                        7   \n",
       "Color3                                        0   \n",
       "MaturitySize                                  2   \n",
       "FurLength                                     2   \n",
       "Vaccinated                                    1   \n",
       "Dewormed                                      1   \n",
       "Sterilized                                    2   \n",
       "Health                                        1   \n",
       "Quantity                                      1   \n",
       "Fee                                           0   \n",
       "State                                     41326   \n",
       "RescuerID      fa90fa5b1ee11c86938398b60abc32cb   \n",
       "VideoAmt                                      0   \n",
       "Description                              Brisco   \n",
       "PetID                                 3422e4906   \n",
       "PhotoAmt                                      7   \n",
       "AdoptionSpeed                                 3   \n",
       "Name_Ind                               withName   \n",
       "Name_Len                                      6   \n",
       "Breed_Ind                                  Pure   \n",
       "Desc_Len                                      6   \n",
       "Color_count                                   2   \n",
       "health                                  1_1_2_1   \n",
       "age_cat                                dog_0_23   \n",
       "Color1_name                               Brown   \n",
       "Color2_name                           W_h_i_t_e   \n",
       "Color3_name                                   -   \n",
       "Breed1_name                         Mixed_Breed   \n",
       "Breed2_name                                   -   \n",
       "magnitude                                   3.7   \n",
       "score                                       0.2   \n",
       "sentiment                                  0.74   \n",
       "\n",
       "                                              3  \\\n",
       "Type                                        Dog   \n",
       "Name                                       Miko   \n",
       "Age                                           4   \n",
       "Breed1                                      307   \n",
       "Breed2                                        0   \n",
       "Gender                                        2   \n",
       "Color1                                        1   \n",
       "Color2                                        2   \n",
       "Color3                                        0   \n",
       "MaturitySize                                  2   \n",
       "FurLength                                     1   \n",
       "Vaccinated                                    1   \n",
       "Dewormed                                      1   \n",
       "Sterilized                                    2   \n",
       "Health                                        1   \n",
       "Quantity                                      1   \n",
       "Fee                                         150   \n",
       "State                                     41401   \n",
       "RescuerID      9238e4f44c71a75282e62f7136c6b240   \n",
       "VideoAmt                                      0   \n",
       "Description                                Miko   \n",
       "PetID                                 5842f1ff5   \n",
       "PhotoAmt                                      8   \n",
       "AdoptionSpeed                                 2   \n",
       "Name_Ind                               withName   \n",
       "Name_Len                                      4   \n",
       "Breed_Ind                                  Pure   \n",
       "Desc_Len                                      4   \n",
       "Color_count                                   2   \n",
       "health                                  1_1_2_1   \n",
       "age_cat                                dog_0_23   \n",
       "Color1_name                               Black   \n",
       "Color2_name                           B_r_o_w_n   \n",
       "Color3_name                                   -   \n",
       "Breed1_name                         Mixed_Breed   \n",
       "Breed2_name                                   -   \n",
       "magnitude                                   0.9   \n",
       "score                                       0.9   \n",
       "sentiment                                  0.81   \n",
       "\n",
       "                                              4  \n",
       "Type                                        Dog  \n",
       "Name                                     Hunter  \n",
       "Age                                           1  \n",
       "Breed1                                      307  \n",
       "Breed2                                        0  \n",
       "Gender                                        1  \n",
       "Color1                                        1  \n",
       "Color2                                        0  \n",
       "Color3                                        0  \n",
       "MaturitySize                                  2  \n",
       "FurLength                                     1  \n",
       "Vaccinated                                    2  \n",
       "Dewormed                                      2  \n",
       "Sterilized                                    2  \n",
       "Health                                        1  \n",
       "Quantity                                      1  \n",
       "Fee                                           0  \n",
       "State                                     41326  \n",
       "RescuerID      95481e953f8aed9ec3d16fc4509537e8  \n",
       "VideoAmt                                      0  \n",
       "Description                              Hunter  \n",
       "PetID                                 850a43f90  \n",
       "PhotoAmt                                      3  \n",
       "AdoptionSpeed                                 2  \n",
       "Name_Ind                               withName  \n",
       "Name_Len                                      6  \n",
       "Breed_Ind                                  Pure  \n",
       "Desc_Len                                      6  \n",
       "Color_count                                   1  \n",
       "health                                  2_2_2_1  \n",
       "age_cat                                dog_0_23  \n",
       "Color1_name                               Black  \n",
       "Color2_name                                   -  \n",
       "Color3_name                                   -  \n",
       "Breed1_name                         Mixed_Breed  \n",
       "Breed2_name                                   -  \n",
       "magnitude                                   3.7  \n",
       "score                                       0.6  \n",
       "sentiment                                  2.22  "
      ]
     },
     "execution_count": 56,
     "metadata": {},
     "output_type": "execute_result"
    }
   ],
   "source": [
    "dfAll.head().T"
   ]
  },
  {
   "cell_type": "code",
   "execution_count": 57,
   "metadata": {},
   "outputs": [
    {
     "data": {
      "image/png": "[encoded data removed]",
      "text/plain": [
       "<matplotlib.figure.Figure at 0x12b14fb38>"
      ]
     },
     "metadata": {},
     "output_type": "display_data"
    }
   ],
   "source": [
    "sns.factorplot('AdoptionSpeed', col='health', palette='Set3', data=dfAll.loc[dfAll['health'].isin(list(dfAll.health.value_counts().index[:5]))], kind='count');\n",
    "plt.subplots_adjust(top=0.9)\n",
    "plt.suptitle('Counts of pets by main health conditions and Adoption Speed');\n",
    "plt.savefig('../images/health.png', bbox_inches='tight')"
   ]
  },
  {
   "cell_type": "code",
   "execution_count": 86,
   "metadata": {},
   "outputs": [
    {
     "data": {
      "text/plain": [
       "Vaccinated  Dewormed  Sterilized  Health  age_cat        Type\n",
       "1           1         1           1       cat_0_1        Cat       11\n",
       "                                          cat_12_above   Cat      537\n",
       "                                          cat_2_5        Cat      137\n",
       "                                          cat_6_11       Cat      230\n",
       "                                          dog_0_23       Dog      815\n",
       "                                          dog_120_above  Dog       12\n",
       "                                          dog_24_71      Dog      525\n",
       "                                          dog_72_119     Dog      110\n",
       "                                  2       cat_12_above   Cat        8\n",
       "                                          cat_2_5        Cat        2\n",
       "                                          cat_6_11       Cat        5\n",
       "                                          dog_0_23       Dog       11\n",
       "                                          dog_24_71      Dog       26\n",
       "                                          dog_72_119     Dog        4\n",
       "                                  3       cat_12_above   Cat        2\n",
       "                                          dog_0_23       Dog        1\n",
       "                      2           1       cat_0_1        Cat       41\n",
       "                                          cat_12_above   Cat      144\n",
       "                                          cat_2_5        Cat      564\n",
       "                                          cat_6_11       Cat      126\n",
       "                                          dog_0_23       Dog     1639\n",
       "                                          dog_120_above  Dog        8\n",
       "                                          dog_24_71      Dog      216\n",
       "                                          dog_72_119     Dog       48\n",
       "                                  2       cat_0_1        Cat        1\n",
       "                                          cat_12_above   Cat        4\n",
       "                                          cat_2_5        Cat       11\n",
       "                                          cat_6_11       Cat        3\n",
       "                                          dog_0_23       Dog       23\n",
       "                                          dog_120_above  Dog        2\n",
       "                                          dog_24_71      Dog       10\n",
       "                                          dog_72_119     Dog        4\n",
       "                                  3       cat_12_above   Cat        1\n",
       "                                          cat_2_5        Cat        1\n",
       "                                          dog_72_119     Dog        1\n",
       "                      3           1       cat_0_1        Cat        4\n",
       "                                          cat_12_above   Cat       18\n",
       "                                          cat_2_5        Cat       38\n",
       "                                          cat_6_11       Cat       21\n",
       "                                          dog_0_23       Dog      173\n",
       "                                          dog_120_above  Dog        1\n",
       "                                          dog_24_71      Dog       69\n",
       "                                          dog_72_119     Dog       15\n",
       "                                  2       cat_12_above   Cat        1\n",
       "                                          cat_2_5        Cat        2\n",
       "                                          dog_0_23       Dog        2\n",
       "                                          dog_120_above  Dog        1\n",
       "                                          dog_24_71      Dog        3\n",
       "                                          dog_72_119     Dog        2\n",
       "                                  3       dog_0_23       Dog        1\n",
       "            2         1           1       cat_12_above   Cat        6\n",
       "                                          cat_2_5        Cat        5\n",
       "                                          cat_6_11       Cat        2\n",
       "                                          dog_0_23       Dog       14\n",
       "                                          dog_24_71      Dog        9\n",
       "                                  2       dog_0_23       Dog        2\n",
       "                                          dog_120_above  Dog        1\n",
       "                      2           1       cat_0_1        Cat        1\n",
       "                                          cat_12_above   Cat        7\n",
       "                                          cat_2_5        Cat       21\n",
       "                                          cat_6_11       Cat        2\n",
       "                                          dog_0_23       Dog       52\n",
       "                                          dog_24_71      Dog        7\n",
       "                                          dog_72_119     Dog        1\n",
       "                                  2       cat_0_1        Cat        1\n",
       "                                          cat_2_5        Cat        1\n",
       "                                          dog_0_23       Dog        2\n",
       "                      3           1       cat_12_above   Cat        2\n",
       "                                          cat_2_5        Cat        1\n",
       "                                          dog_0_23       Dog        5\n",
       "                                          dog_72_119     Dog        1\n",
       "            3         1           1       cat_12_above   Cat       10\n",
       "                                          cat_6_11       Cat        2\n",
       "                                          dog_0_23       Dog       17\n",
       "                                          dog_24_71      Dog        4\n",
       "                                  2       dog_24_71      Dog        2\n",
       "                      2           1       cat_12_above   Cat        4\n",
       "                                          cat_2_5        Cat        4\n",
       "                                          cat_6_11       Cat        1\n",
       "                                          dog_0_23       Dog       25\n",
       "                                          dog_24_71      Dog        6\n",
       "                                          dog_72_119     Dog        2\n",
       "                                  2       dog_72_119     Dog        1\n",
       "                      3           1       cat_12_above   Cat        7\n",
       "                                          cat_2_5        Cat        1\n",
       "                                          cat_6_11       Cat        1\n",
       "                                          dog_0_23       Dog       22\n",
       "                                          dog_24_71      Dog        6\n",
       "                                          dog_72_119     Dog        3\n",
       "                                  2       cat_12_above   Cat        1\n",
       "                                          dog_24_71      Dog        1\n",
       "                                  3       dog_0_23       Dog        1\n",
       "2           1         1           1       cat_0_1        Cat        2\n",
       "                                          cat_12_above   Cat       64\n",
       "                                          cat_2_5        Cat       36\n",
       "                                          cat_6_11       Cat       33\n",
       "                                          dog_0_23       Dog       68\n",
       "                                          dog_24_71      Dog       17\n",
       "                                          dog_72_119     Dog        2\n",
       "                                  2       cat_12_above   Cat        5\n",
       "                                          cat_6_11       Cat        1\n",
       "                      2           1       cat_0_1        Cat      210\n",
       "                                          cat_12_above   Cat       62\n",
       "                                          cat_2_5        Cat      861\n",
       "                                          cat_6_11       Cat       92\n",
       "                                          dog_0_23       Dog      841\n",
       "                                          dog_24_71      Dog       11\n",
       "                                          dog_72_119     Dog        4\n",
       "                                  2       cat_0_1        Cat        9\n",
       "                                          cat_12_above   Cat        3\n",
       "                                          cat_2_5        Cat       34\n",
       "                                          cat_6_11       Cat        1\n",
       "                                          dog_0_23       Dog       25\n",
       "                                          dog_24_71      Dog        3\n",
       "                                  3       cat_2_5        Cat        2\n",
       "                                          dog_0_23       Dog        1\n",
       "                      3           1       cat_0_1        Cat       12\n",
       "                                          cat_12_above   Cat        4\n",
       "                                          cat_2_5        Cat       44\n",
       "                                          cat_6_11       Cat        3\n",
       "                                          dog_0_23       Dog       30\n",
       "                                          dog_24_71      Dog        3\n",
       "                                  2       cat_2_5        Cat        1\n",
       "                                          dog_0_23       Dog        1\n",
       "                                          dog_72_119     Dog        2\n",
       "            2         1           1       cat_0_1        Cat        6\n",
       "                                          cat_12_above   Cat       42\n",
       "                                          cat_2_5        Cat       22\n",
       "                                          cat_6_11       Cat       15\n",
       "                                          dog_0_23       Dog       58\n",
       "                                          dog_120_above  Dog        1\n",
       "                                          dog_24_71      Dog       18\n",
       "                                          dog_72_119     Dog        1\n",
       "                                  2       cat_0_1        Cat        1\n",
       "                                          cat_6_11       Cat        1\n",
       "                                          dog_24_71      Dog        3\n",
       "                                  3       cat_12_above   Cat        1\n",
       "                      2           1       cat_0_1        Cat      688\n",
       "                                          cat_12_above   Cat      167\n",
       "                                          cat_2_5        Cat     1378\n",
       "                                          cat_6_11       Cat      192\n",
       "                                          dog_0_23       Dog     1715\n",
       "                                          dog_24_71      Dog       42\n",
       "                                          dog_72_119     Dog        7\n",
       "                                  2       cat_0_1        Cat       16\n",
       "                                          cat_12_above   Cat       12\n",
       "                                          cat_2_5        Cat       33\n",
       "                                          cat_6_11       Cat        6\n",
       "                                          dog_0_23       Dog       34\n",
       "                                          dog_24_71      Dog        6\n",
       "                                  3       cat_12_above   Cat        2\n",
       "                                          cat_6_11       Cat        1\n",
       "                                          dog_0_23       Dog        3\n",
       "                                          dog_24_71      Dog        2\n",
       "                      3           1       cat_0_1        Cat       25\n",
       "                                          cat_12_above   Cat       11\n",
       "                                          cat_2_5        Cat       39\n",
       "                                          cat_6_11       Cat       14\n",
       "                                          dog_0_23       Dog       77\n",
       "                                          dog_24_71      Dog        5\n",
       "                                  2       cat_0_1        Cat        1\n",
       "                                          cat_12_above   Cat        1\n",
       "                                          cat_2_5        Cat        3\n",
       "                                          dog_0_23       Dog        1\n",
       "                                          dog_24_71      Dog        3\n",
       "                                  3       cat_12_above   Cat        1\n",
       "            3         1           1       cat_12_above   Cat        3\n",
       "                                          cat_2_5        Cat        1\n",
       "                                          cat_6_11       Cat        1\n",
       "                                          dog_24_71      Dog        1\n",
       "                      2           1       cat_0_1        Cat        2\n",
       "                                          cat_12_above   Cat        2\n",
       "                                          cat_2_5        Cat       19\n",
       "                                          cat_6_11       Cat        1\n",
       "                                          dog_0_23       Dog       19\n",
       "                                          dog_24_71      Dog        2\n",
       "                                  2       cat_2_5        Cat        1\n",
       "                      3           1       cat_0_1        Cat        4\n",
       "                                          cat_12_above   Cat        7\n",
       "                                          cat_2_5        Cat        6\n",
       "                                          cat_6_11       Cat        4\n",
       "                                          dog_0_23       Dog       12\n",
       "                                          dog_24_71      Dog        1\n",
       "3           1         1           1       cat_0_1        Cat        1\n",
       "                                          cat_12_above   Cat       17\n",
       "                                          cat_2_5        Cat        4\n",
       "                                          cat_6_11       Cat        4\n",
       "                                          dog_0_23       Dog       16\n",
       "                                          dog_24_71      Dog        9\n",
       "                                  2       cat_12_above   Cat        1\n",
       "                      2           1       cat_0_1        Cat        5\n",
       "                                          cat_12_above   Cat       12\n",
       "                                          cat_2_5        Cat       27\n",
       "                                          cat_6_11       Cat       13\n",
       "                                          dog_0_23       Dog       56\n",
       "                                          dog_24_71      Dog       14\n",
       "                                          dog_72_119     Dog        4\n",
       "                                  2       cat_12_above   Cat        3\n",
       "                                          cat_2_5        Cat        2\n",
       "                                          dog_0_23       Dog        1\n",
       "                                          dog_24_71      Dog        1\n",
       "                                          dog_72_119     Dog        2\n",
       "                      3           1       cat_0_1        Cat        3\n",
       "                                          cat_12_above   Cat        4\n",
       "                                          cat_2_5        Cat       19\n",
       "                                          cat_6_11       Cat        5\n",
       "                                          dog_0_23       Dog       34\n",
       "                                          dog_24_71      Dog       10\n",
       "                                          dog_72_119     Dog        3\n",
       "                                  2       dog_0_23       Dog        2\n",
       "                                          dog_120_above  Dog        1\n",
       "                                          dog_24_71      Dog        2\n",
       "                                          dog_72_119     Dog        1\n",
       "            2         1           1       cat_6_11       Cat        1\n",
       "                      2           1       cat_6_11       Cat        2\n",
       "                                          dog_0_23       Dog        2\n",
       "                                          dog_24_71      Dog        2\n",
       "                                  2       cat_6_11       Cat        1\n",
       "                      3           1       cat_12_above   Cat        3\n",
       "                                          dog_0_23       Dog        5\n",
       "                                          dog_24_71      Dog        2\n",
       "            3         1           1       cat_0_1        Cat        1\n",
       "                                          cat_12_above   Cat       19\n",
       "                                          cat_2_5        Cat        8\n",
       "                                          cat_6_11       Cat        8\n",
       "                                          dog_0_23       Dog       41\n",
       "                                          dog_120_above  Dog        1\n",
       "                                          dog_24_71      Dog       41\n",
       "                                          dog_72_119     Dog        4\n",
       "                                  2       cat_12_above   Cat        3\n",
       "                                          dog_0_23       Dog        2\n",
       "                                          dog_24_71      Dog        7\n",
       "                      2           1       cat_0_1        Cat       14\n",
       "                                          cat_12_above   Cat       29\n",
       "                                          cat_2_5        Cat       36\n",
       "                                          cat_6_11       Cat       22\n",
       "                                          dog_0_23       Dog      255\n",
       "                                          dog_120_above  Dog        4\n",
       "                                          dog_24_71      Dog       43\n",
       "                                          dog_72_119     Dog        8\n",
       "                                  2       cat_12_above   Cat        5\n",
       "                                          cat_6_11       Cat        1\n",
       "                                          dog_0_23       Dog        3\n",
       "                                          dog_24_71      Dog       10\n",
       "                                          dog_72_119     Dog        3\n",
       "                                  3       cat_12_above   Cat        1\n",
       "                                          dog_120_above  Dog        1\n",
       "                                          dog_24_71      Dog        1\n",
       "                      3           1       cat_0_1        Cat       46\n",
       "                                          cat_12_above   Cat       94\n",
       "                                          cat_2_5        Cat      162\n",
       "                                          cat_6_11       Cat       54\n",
       "                                          dog_0_23       Dog      370\n",
       "                                          dog_120_above  Dog        9\n",
       "                                          dog_24_71      Dog      148\n",
       "                                          dog_72_119     Dog       24\n",
       "                                  2       cat_0_1        Cat        4\n",
       "                                          cat_12_above   Cat       14\n",
       "                                          cat_2_5        Cat        9\n",
       "                                          cat_6_11       Cat        3\n",
       "                                          dog_0_23       Dog       29\n",
       "                                          dog_120_above  Dog        3\n",
       "                                          dog_24_71      Dog       19\n",
       "                                          dog_72_119     Dog        5\n",
       "                                  3       cat_0_1        Cat        1\n",
       "                                          dog_0_23       Dog        5\n",
       "                                          dog_120_above  Dog        1\n",
       "                                          dog_24_71      Dog        2\n",
       "                                          dog_72_119     Dog        1\n",
       "Name: Name, dtype: int64"
      ]
     },
     "execution_count": 86,
     "metadata": {},
     "output_type": "execute_result"
    }
   ],
   "source": [
    "dfAll.groupby(['Vaccinated','Dewormed','Sterilized','Health','age_cat','Type'])['Name'].count()"
   ]
  },
  {
   "cell_type": "markdown",
   "metadata": {},
   "source": [
    "DataFrame Columns"
   ]
  },
  {
   "cell_type": "code",
   "execution_count": 58,
   "metadata": {
    "collapsed": true
   },
   "outputs": [],
   "source": [
    "corr_num_cols = ['sentiment', 'score', 'Color_count', 'Desc_Len', 'Name_Len', 'PhotoAmt', 'Quantity', 'MaturitySize', 'Age']\n",
    "corr_cat_cols = ['Health','Sterilized','Dewormed', 'Vaccinated', 'FurLength', 'Color1', 'Color2', 'Color3','Gender',\n",
    "                 'Breed2', 'Breed1']"
   ]
  },
  {
   "cell_type": "code",
   "execution_count": 59,
   "metadata": {
    "collapsed": true
   },
   "outputs": [],
   "source": [
    "cat_cols = ['Type', 'State', 'Breed_Ind', 'Color1_name', 'Color2_name', 'Color3_name', 'Breed1_name', 'Breed2_name','health']\n",
    "num_cols = ['Age', 'Fee', 'PhotoAmt', 'Desc_Len', 'Color_count']"
   ]
  },
  {
   "cell_type": "code",
   "execution_count": 60,
   "metadata": {},
   "outputs": [
    {
     "data": {
      "text/plain": [
       "41326    8714\n",
       "41401    3845\n",
       "41327     843\n",
       "41336     507\n",
       "41330     420\n",
       "41332     253\n",
       "41324     137\n",
       "41325     110\n",
       "41335      85\n",
       "41361      26\n",
       "41345      22\n",
       "41367      15\n",
       "41342      13\n",
       "41415       3\n",
       "Name: State, dtype: int64"
      ]
     },
     "execution_count": 60,
     "metadata": {},
     "output_type": "execute_result"
    }
   ],
   "source": [
    "dfAll.State.value_counts()"
   ]
  },
  {
   "cell_type": "code",
   "execution_count": 61,
   "metadata": {},
   "outputs": [
    {
     "name": "stdout",
     "output_type": "stream",
     "text": [
      "Maximum amount of photos in 30.0\n"
     ]
    },
    {
     "data": {
      "text/plain": [
       "1.0    3075\n",
       "2.0    2518\n",
       "3.0    2511\n",
       "5.0    2147\n",
       "4.0    1881\n",
       "Name: PhotoAmt, dtype: int64"
      ]
     },
     "execution_count": 61,
     "metadata": {},
     "output_type": "execute_result"
    }
   ],
   "source": [
    "print(F'Maximum amount of photos in {dfAll[\"PhotoAmt\"].max()}')\n",
    "train['PhotoAmt'].value_counts().head()"
   ]
  },
  {
   "cell_type": "code",
   "execution_count": 62,
   "metadata": {},
   "outputs": [
    {
     "data": {
      "image/png": "[encoded data removed]",
      "text/plain": [
       "<matplotlib.figure.Figure at 0x121be7c50>"
      ]
     },
     "metadata": {},
     "output_type": "display_data"
    }
   ],
   "source": [
    "sns.factorplot('AdoptionSpeed', col='PhotoAmt', palette='Set3', data=dfAll.loc[dfAll['PhotoAmt'].isin(list(dfAll.PhotoAmt.value_counts().index[:5]))], kind='count');\n",
    "plt.subplots_adjust(top=0.9)\n",
    "plt.suptitle('Counts of pets by PhotoAmt and Adoption Speed');\n",
    "plt.savefig('../images/PhotoAmt.png', bbox_inches='tight')"
   ]
  },
  {
   "cell_type": "code",
   "execution_count": 63,
   "metadata": {},
   "outputs": [
    {
     "name": "stderr",
     "output_type": "stream",
     "text": [
      "/Users/ayeshamendoza/anaconda/lib/python3.6/site-packages/scipy/stats/stats.py:1633: FutureWarning: Using a non-tuple sequence for multidimensional indexing is deprecated; use `arr[tuple(seq)]` instead of `arr[seq]`. In the future this will be interpreted as an array index, `arr[np.array(seq)]`, which will result either in an error or a different result.\n",
      "  return np.add.reduce(sorted[indexer] * weights, axis=axis) / sumval\n"
     ]
    },
    {
     "data": {
      "image/png": "[encoded data removed]",
      "text/plain": [
       "<matplotlib.figure.Figure at 0x1275c3ef0>"
      ]
     },
     "metadata": {},
     "output_type": "display_data"
    }
   ],
   "source": [
    "plt.figure(figsize=(16, 6));\n",
    "plt.subplot(1, 2, 1)\n",
    "plt.hist(dfAll['PhotoAmt']);\n",
    "plt.title('Distribution of PhotoAmt');\n",
    "\n",
    "plt.subplot(1, 2, 2)\n",
    "sns.violinplot(x=\"AdoptionSpeed\", y=\"PhotoAmt\", hue=\"Type\", palette='Set2', data=train);\n",
    "plt.title('AdoptionSpeed by Type and PhotoAmt');"
   ]
  },
  {
   "cell_type": "code",
   "execution_count": 114,
   "metadata": {},
   "outputs": [
    {
     "data": {
      "text/plain": [
       "Type  AdoptionSpeed\n",
       "Cat   0                 58\n",
       "      1                344\n",
       "      2                354\n",
       "      3                246\n",
       "      4                373\n",
       "Dog   0                 29\n",
       "      1                300\n",
       "      2                428\n",
       "      3                392\n",
       "      4                355\n",
       "Name: Name, dtype: int64"
      ]
     },
     "execution_count": 114,
     "metadata": {},
     "output_type": "execute_result"
    }
   ],
   "source": [
    "dfAll[dfAll.score == 0].groupby(['Type','AdoptionSpeed'])['Name'].count()"
   ]
  },
  {
   "cell_type": "code",
   "execution_count": null,
   "metadata": {
    "collapsed": true
   },
   "outputs": [],
   "source": []
  },
  {
   "cell_type": "markdown",
   "metadata": {},
   "source": [
    "### Save preprocessed data as pickle file"
   ]
  },
  {
   "cell_type": "code",
   "execution_count": 64,
   "metadata": {
    "collapsed": true
   },
   "outputs": [],
   "source": [
    "dfAll.to_pickle('../data/out/PetFinder_preprocessed.pkl')"
   ]
  },
  {
   "cell_type": "code",
   "execution_count": 65,
   "metadata": {},
   "outputs": [
    {
     "data": {
      "text/plain": [
       "Index(['Type', 'Name', 'Age', 'Breed1', 'Breed2', 'Gender', 'Color1', 'Color2',\n",
       "       'Color3', 'MaturitySize', 'FurLength', 'Vaccinated', 'Dewormed',\n",
       "       'Sterilized', 'Health', 'Quantity', 'Fee', 'State', 'RescuerID',\n",
       "       'VideoAmt', 'Description', 'PetID', 'PhotoAmt', 'AdoptionSpeed',\n",
       "       'Name_Ind', 'Name_Len', 'Breed_Ind', 'Desc_Len', 'Color_count',\n",
       "       'health', 'age_cat', 'Color1_name', 'Color2_name', 'Color3_name',\n",
       "       'Breed1_name', 'Breed2_name', 'magnitude', 'score', 'sentiment'],\n",
       "      dtype='object')"
      ]
     },
     "execution_count": 65,
     "metadata": {},
     "output_type": "execute_result"
    }
   ],
   "source": [
    "dfAll.columns"
   ]
  },
  {
   "cell_type": "code",
   "execution_count": 66,
   "metadata": {
    "collapsed": true
   },
   "outputs": [],
   "source": [
    "# Definition of the CategoricalEncoder class, copied from PR #9151.\n",
    "# Just run this cell, or copy it to your code, do not try to understand it (yet).\n",
    "\n",
    "from sklearn.base import BaseEstimator, TransformerMixin\n",
    "from sklearn.utils import check_array\n",
    "from sklearn.preprocessing import LabelEncoder\n",
    "from scipy import sparse\n",
    "\n",
    "class CategoricalEncoder(BaseEstimator, TransformerMixin):\n",
    "\n",
    "\n",
    "    def __init__(self, encoding='onehot', categories='auto', dtype=np.float64,\n",
    "                 handle_unknown='error'):\n",
    "        self.encoding = encoding\n",
    "        self.categories = categories\n",
    "        self.dtype = dtype\n",
    "        self.handle_unknown = handle_unknown\n",
    "\n",
    "    def fit(self, X, y=None):\n",
    "        \"\"\"Fit the CategoricalEncoder to X.\n",
    "        Parameters\n",
    "        ----------\n",
    "        X : array-like, shape [n_samples, n_feature]\n",
    "            The data to determine the categories of each feature.\n",
    "        Returns\n",
    "        -------\n",
    "        self\n",
    "        \"\"\"\n",
    "\n",
    "        if self.encoding not in ['onehot', 'onehot-dense', 'ordinal']:\n",
    "            template = (\"encoding should be either 'onehot', 'onehot-dense' \"\n",
    "                        \"or 'ordinal', got %s\")\n",
    "            raise ValueError(template % self.handle_unknown)\n",
    "\n",
    "        if self.handle_unknown not in ['error', 'ignore']:\n",
    "            template = (\"handle_unknown should be either 'error' or \"\n",
    "                        \"'ignore', got %s\")\n",
    "            raise ValueError(template % self.handle_unknown)\n",
    "\n",
    "        if self.encoding == 'ordinal' and self.handle_unknown == 'ignore':\n",
    "            raise ValueError(\"handle_unknown='ignore' is not supported for\"\n",
    "                             \" encoding='ordinal'\")\n",
    "\n",
    "        X = check_array(X, dtype=np.object, accept_sparse='csc', copy=True)\n",
    "        n_samples, n_features = X.shape\n",
    "\n",
    "        self._label_encoders_ = [LabelEncoder() for _ in range(n_features)]\n",
    "\n",
    "        for i in range(n_features):\n",
    "            le = self._label_encoders_[i]\n",
    "            Xi = X[:, i]\n",
    "            if self.categories == 'auto':\n",
    "                le.fit(Xi)\n",
    "            else:\n",
    "                valid_mask = np.in1d(Xi, self.categories[i])\n",
    "                if not np.all(valid_mask):\n",
    "                    if self.handle_unknown == 'error':\n",
    "                        diff = np.unique(Xi[~valid_mask])\n",
    "                        msg = (\"Found unknown categories {0} in column {1}\"\n",
    "                               \" during fit\".format(diff, i))\n",
    "                        raise ValueError(msg)\n",
    "                le.classes_ = np.array(np.sort(self.categories[i]))\n",
    "\n",
    "        self.categories_ = [le.classes_ for le in self._label_encoders_]\n",
    "\n",
    "        return self\n",
    "\n",
    "    def transform(self, X):\n",
    "        \"\"\"Transform X using one-hot encoding.\n",
    "        Parameters\n",
    "        ----------\n",
    "        X : array-like, shape [n_samples, n_features]\n",
    "            The data to encode.\n",
    "        Returns\n",
    "        -------\n",
    "        X_out : sparse matrix or a 2-d array\n",
    "            Transformed input.\n",
    "        \"\"\"\n",
    "        X = check_array(X, accept_sparse='csc', dtype=np.object, copy=True)\n",
    "        n_samples, n_features = X.shape\n",
    "        X_int = np.zeros_like(X, dtype=np.int)\n",
    "        X_mask = np.ones_like(X, dtype=np.bool)\n",
    "\n",
    "        for i in range(n_features):\n",
    "            valid_mask = np.in1d(X[:, i], self.categories_[i])\n",
    "\n",
    "            if not np.all(valid_mask):\n",
    "                if self.handle_unknown == 'error':\n",
    "                    diff = np.unique(X[~valid_mask, i])\n",
    "                    msg = (\"Found unknown categories {0} in column {1}\"\n",
    "                           \" during transform\".format(diff, i))\n",
    "                    raise ValueError(msg)\n",
    "                else:\n",
    "                    # Set the problematic rows to an acceptable value and\n",
    "                    # continue `The rows are marked `X_mask` and will be\n",
    "                    # removed later.\n",
    "                    X_mask[:, i] = valid_mask\n",
    "                    X[:, i][~valid_mask] = self.categories_[i][0]\n",
    "            X_int[:, i] = self._label_encoders_[i].transform(X[:, i])\n",
    "\n",
    "        if self.encoding == 'ordinal':\n",
    "            return X_int.astype(self.dtype, copy=False)\n",
    "\n",
    "        mask = X_mask.ravel()\n",
    "        n_values = [cats.shape[0] for cats in self.categories_]\n",
    "        n_values = np.array([0] + n_values)\n",
    "        indices = np.cumsum(n_values)\n",
    "\n",
    "        column_indices = (X_int + indices[:-1]).ravel()[mask]\n",
    "        row_indices = np.repeat(np.arange(n_samples, dtype=np.int32),\n",
    "                                n_features)[mask]\n",
    "        data = np.ones(n_samples * n_features)[mask]\n",
    "\n",
    "        out = sparse.csc_matrix((data, (row_indices, column_indices)),\n",
    "                                shape=(n_samples, indices[-1]),\n",
    "                                dtype=self.dtype).tocsr()\n",
    "        if self.encoding == 'onehot-dense':\n",
    "            return out.toarray()\n",
    "        else:\n",
    "            return out"
   ]
  },
  {
   "cell_type": "code",
   "execution_count": 67,
   "metadata": {
    "collapsed": true
   },
   "outputs": [],
   "source": [
    "from sklearn.pipeline import Pipeline\n",
    "from sklearn.preprocessing import StandardScaler"
   ]
  },
  {
   "cell_type": "code",
   "execution_count": 68,
   "metadata": {
    "collapsed": true
   },
   "outputs": [],
   "source": [
    "from sklearn.base import BaseEstimator, TransformerMixin\n",
    "\n",
    "# Create a class to select numerical or categorical columns \n",
    "# since Scikit-Learn doesn't handle DataFrames yet\n",
    "class DataFrameSelector(BaseEstimator, TransformerMixin):\n",
    "    def __init__(self, attribute_names):\n",
    "        self.attribute_names = attribute_names\n",
    "    def fit(self, X, y=None):\n",
    "        return self\n",
    "    def transform(self, X):\n",
    "        return X[self.attribute_names].values"
   ]
  },
  {
   "cell_type": "code",
   "execution_count": 69,
   "metadata": {
    "collapsed": true
   },
   "outputs": [],
   "source": [
    "num_pipeline = Pipeline([\n",
    "    ('selector', DataFrameSelector(corr_num_cols)),\n",
    "    ('std_scaler', StandardScaler())\n",
    "])"
   ]
  },
  {
   "cell_type": "code",
   "execution_count": 70,
   "metadata": {
    "collapsed": true
   },
   "outputs": [],
   "source": [
    "cat_pipeline = Pipeline([\n",
    "    ('selector', DataFrameSelector(corr_cat_cols)),\n",
    "    ('cat_encoder', CategoricalEncoder(encoding='onehot-dense')),\n",
    "])"
   ]
  },
  {
   "cell_type": "code",
   "execution_count": 71,
   "metadata": {
    "collapsed": true
   },
   "outputs": [],
   "source": [
    "from sklearn.pipeline import FeatureUnion\n",
    "\n",
    "full_pipeline = FeatureUnion(transformer_list=[\n",
    "    (\"num_pipeline\", num_pipeline),\n",
    "    (\"cat_pipeline\", cat_pipeline),\n",
    "])"
   ]
  },
  {
   "cell_type": "code",
   "execution_count": 72,
   "metadata": {},
   "outputs": [
    {
     "name": "stdout",
     "output_type": "stream",
     "text": [
      "<class 'pandas.core.frame.DataFrame'>\n",
      "Int64Index: 14993 entries, 0 to 14992\n",
      "Data columns (total 39 columns):\n",
      "Type             14993 non-null object\n",
      "Name             14993 non-null object\n",
      "Age              14993 non-null int64\n",
      "Breed1           14993 non-null int64\n",
      "Breed2           14993 non-null int64\n",
      "Gender           14993 non-null int64\n",
      "Color1           14993 non-null int64\n",
      "Color2           14993 non-null int64\n",
      "Color3           14993 non-null int64\n",
      "MaturitySize     14993 non-null int64\n",
      "FurLength        14993 non-null int64\n",
      "Vaccinated       14993 non-null int64\n",
      "Dewormed         14993 non-null int64\n",
      "Sterilized       14993 non-null int64\n",
      "Health           14993 non-null int64\n",
      "Quantity         14993 non-null int64\n",
      "Fee              14993 non-null int64\n",
      "State            14993 non-null int64\n",
      "RescuerID        14993 non-null object\n",
      "VideoAmt         14993 non-null int64\n",
      "Description      14993 non-null object\n",
      "PetID            14993 non-null object\n",
      "PhotoAmt         14993 non-null float64\n",
      "AdoptionSpeed    14993 non-null int64\n",
      "Name_Ind         14993 non-null object\n",
      "Name_Len         14993 non-null int64\n",
      "Breed_Ind        14993 non-null object\n",
      "Desc_Len         14993 non-null int64\n",
      "Color_count      14993 non-null int64\n",
      "health           14993 non-null object\n",
      "age_cat          14993 non-null object\n",
      "Color1_name      14993 non-null object\n",
      "Color2_name      14993 non-null object\n",
      "Color3_name      14993 non-null object\n",
      "Breed1_name      14993 non-null object\n",
      "Breed2_name      14993 non-null object\n",
      "magnitude        14993 non-null float64\n",
      "score            14993 non-null float64\n",
      "sentiment        14993 non-null float64\n",
      "dtypes: float64(4), int64(21), object(14)\n",
      "memory usage: 5.2+ MB\n"
     ]
    }
   ],
   "source": [
    "dfAll.info()"
   ]
  },
  {
   "cell_type": "code",
   "execution_count": 73,
   "metadata": {
    "collapsed": true
   },
   "outputs": [],
   "source": [
    "corr_num_cols = ['sentiment', 'score', 'Color_count', 'Desc_Len', 'Name_Len', \n",
    "                 'PhotoAmt', 'Quantity', 'MaturitySize','FurLength','Fee']\n",
    "corr_cat_cols = ['health','Sterilized','Dewormed', 'Vaccinated', 'Color1', 'Color2', 'Color3',\n",
    "                 'Gender', 'Breed2', 'Breed1', 'age_cat']"
   ]
  },
  {
   "cell_type": "code",
   "execution_count": 74,
   "metadata": {
    "collapsed": true
   },
   "outputs": [],
   "source": [
    "X = full_pipeline.fit_transform(dfAll)"
   ]
  },
  {
   "cell_type": "code",
   "execution_count": 75,
   "metadata": {},
   "outputs": [
    {
     "data": {
      "text/plain": [
       "(14993, 358)"
      ]
     },
     "execution_count": 75,
     "metadata": {},
     "output_type": "execute_result"
    }
   ],
   "source": [
    "X.shape"
   ]
  },
  {
   "cell_type": "code",
   "execution_count": 76,
   "metadata": {
    "collapsed": true
   },
   "outputs": [],
   "source": [
    "from sklearn.decomposition import PCA\n",
    "\n",
    "pca = PCA(n_components=None).fit(X)\n",
    "components = pca.components_\n",
    "ex_var = pca.explained_variance_ratio_"
   ]
  },
  {
   "cell_type": "code",
   "execution_count": 77,
   "metadata": {},
   "outputs": [
    {
     "name": "stdout",
     "output_type": "stream",
     "text": [
      "19\n"
     ]
    }
   ],
   "source": [
    "sums = ex_var.cumsum()\n",
    "n_comps = 0\n",
    "for i, s in enumerate(sums):\n",
    "    if s > 0.9:\n",
    "        n_comps = i\n",
    "        break\n",
    "print(n_comps)"
   ]
  },
  {
   "cell_type": "code",
   "execution_count": 78,
   "metadata": {},
   "outputs": [
    {
     "data": {
      "image/png": "[encoded data removed]",
      "text/plain": [
       "<matplotlib.figure.Figure at 0x1279250b8>"
      ]
     },
     "metadata": {},
     "output_type": "display_data"
    }
   ],
   "source": [
    "plt.figure()\n",
    "plt.plot(np.cumsum(pca.explained_variance_ratio_))\n",
    "plt.xlabel('Number of Components')\n",
    "plt.ylabel('Variance (%)') #for each component\n",
    "plt.title('Petfinder Features Explained Variance')\n",
    "plt.show()"
   ]
  },
  {
   "cell_type": "code",
   "execution_count": 79,
   "metadata": {},
   "outputs": [
    {
     "data": {
      "text/plain": [
       "(14993, 3)"
      ]
     },
     "execution_count": 79,
     "metadata": {},
     "output_type": "execute_result"
    }
   ],
   "source": [
    "pca = PCA(n_components=3).fit(X)\n",
    "x = pca.transform(X)\n",
    "x.shape"
   ]
  },
  {
   "cell_type": "code",
   "execution_count": 80,
   "metadata": {
    "collapsed": true
   },
   "outputs": [],
   "source": [
    "import numpy as np\n",
    "\n",
    "Train = np.c_[X, x]"
   ]
  },
  {
   "cell_type": "code",
   "execution_count": 81,
   "metadata": {},
   "outputs": [
    {
     "data": {
      "text/plain": [
       "array([[-0.509416  , -0.61660524, -1.29376867, ..., -1.4961091 ,\n",
       "        -0.34674739,  1.27256664],\n",
       "       [ 2.00998391,  1.55166049,  0.00711482, ...,  0.83397583,\n",
       "         1.61434658, -1.19064183],\n",
       "       [-0.52274616, -0.25522762, -1.29376867, ...,  0.15077099,\n",
       "         0.07847406,  2.1689338 ],\n",
       "       ...,\n",
       "       [ 0.51700618,  1.55166049,  0.00711482, ..., -0.04695611,\n",
       "         1.34846523, -0.23827026],\n",
       "       [-0.78934933, -0.97798286, -1.29376867, ..., -1.57400244,\n",
       "        -1.34585741,  0.84592108],\n",
       "       [-1.10927313, -2.06211572, -1.29376867, ..., -2.37168855,\n",
       "        -2.08648589,  1.31145122]])"
      ]
     },
     "execution_count": 81,
     "metadata": {},
     "output_type": "execute_result"
    }
   ],
   "source": [
    "Train[358:][:10]"
   ]
  },
  {
   "cell_type": "code",
   "execution_count": 82,
   "metadata": {},
   "outputs": [
    {
     "data": {
      "text/plain": [
       "(14993,)"
      ]
     },
     "execution_count": 82,
     "metadata": {},
     "output_type": "execute_result"
    }
   ],
   "source": [
    "y = dfAll.AdoptionSpeed.values\n",
    "y.shape"
   ]
  },
  {
   "cell_type": "code",
   "execution_count": 83,
   "metadata": {},
   "outputs": [
    {
     "data": {
      "text/plain": [
       "(14993, 362)"
      ]
     },
     "execution_count": 83,
     "metadata": {},
     "output_type": "execute_result"
    }
   ],
   "source": [
    "Train = np.c_[Train, y]\n",
    "Train.shape"
   ]
  },
  {
   "cell_type": "code",
   "execution_count": 84,
   "metadata": {},
   "outputs": [
    {
     "data": {
      "text/plain": [
       "4    4197\n",
       "2    4037\n",
       "3    3259\n",
       "1    3090\n",
       "0     410\n",
       "Name: AdoptionSpeed, dtype: int64"
      ]
     },
     "execution_count": 84,
     "metadata": {},
     "output_type": "execute_result"
    }
   ],
   "source": [
    "dfAll.AdoptionSpeed.value_counts()"
   ]
  },
  {
   "cell_type": "code",
   "execution_count": 85,
   "metadata": {},
   "outputs": [
    {
     "ename": "NameError",
     "evalue": "name 'df' is not defined",
     "output_type": "error",
     "traceback": [
      "\u001b[0;31m---------------------------------------------------------------------------\u001b[0m",
      "\u001b[0;31mNameError\u001b[0m                                 Traceback (most recent call last)",
      "\u001b[0;32m<ipython-input-85-ec610864a784>\u001b[0m in \u001b[0;36m<module>\u001b[0;34m()\u001b[0m\n\u001b[0;32m----> 1\u001b[0;31m \u001b[0mgroup0\u001b[0m \u001b[0;34m=\u001b[0m \u001b[0mdf\u001b[0m\u001b[0;34m[\u001b[0m\u001b[0mdf\u001b[0m\u001b[0;34m[\u001b[0m\u001b[0;36m361\u001b[0m\u001b[0;34m]\u001b[0m\u001b[0;34m==\u001b[0m \u001b[0;36m0\u001b[0m\u001b[0;34m]\u001b[0m\u001b[0;34m[\u001b[0m\u001b[0;34m[\u001b[0m\u001b[0;36m358\u001b[0m\u001b[0;34m,\u001b[0m \u001b[0;36m359\u001b[0m\u001b[0;34m,\u001b[0m \u001b[0;36m360\u001b[0m\u001b[0;34m]\u001b[0m\u001b[0;34m]\u001b[0m\u001b[0;34m\u001b[0m\u001b[0m\n\u001b[0m\u001b[1;32m      2\u001b[0m \u001b[0mgroup1\u001b[0m \u001b[0;34m=\u001b[0m \u001b[0mdf\u001b[0m\u001b[0;34m[\u001b[0m\u001b[0mdf\u001b[0m\u001b[0;34m[\u001b[0m\u001b[0;36m361\u001b[0m\u001b[0;34m]\u001b[0m\u001b[0;34m==\u001b[0m \u001b[0;36m1\u001b[0m\u001b[0;34m]\u001b[0m\u001b[0;34m[\u001b[0m\u001b[0;34m[\u001b[0m\u001b[0;36m358\u001b[0m\u001b[0;34m,\u001b[0m \u001b[0;36m359\u001b[0m\u001b[0;34m,\u001b[0m \u001b[0;36m360\u001b[0m\u001b[0;34m]\u001b[0m\u001b[0;34m]\u001b[0m\u001b[0;34m\u001b[0m\u001b[0m\n\u001b[1;32m      3\u001b[0m \u001b[0mgroup2\u001b[0m \u001b[0;34m=\u001b[0m \u001b[0mdf\u001b[0m\u001b[0;34m[\u001b[0m\u001b[0mdf\u001b[0m\u001b[0;34m[\u001b[0m\u001b[0;36m361\u001b[0m\u001b[0;34m]\u001b[0m\u001b[0;34m==\u001b[0m \u001b[0;36m2\u001b[0m\u001b[0;34m]\u001b[0m\u001b[0;34m[\u001b[0m\u001b[0;34m[\u001b[0m\u001b[0;36m358\u001b[0m\u001b[0;34m,\u001b[0m \u001b[0;36m359\u001b[0m\u001b[0;34m,\u001b[0m \u001b[0;36m360\u001b[0m\u001b[0;34m]\u001b[0m\u001b[0;34m]\u001b[0m\u001b[0;34m\u001b[0m\u001b[0m\n\u001b[1;32m      4\u001b[0m \u001b[0mgroup3\u001b[0m \u001b[0;34m=\u001b[0m \u001b[0mdf\u001b[0m\u001b[0;34m[\u001b[0m\u001b[0mdf\u001b[0m\u001b[0;34m[\u001b[0m\u001b[0;36m361\u001b[0m\u001b[0;34m]\u001b[0m\u001b[0;34m==\u001b[0m \u001b[0;36m3\u001b[0m\u001b[0;34m]\u001b[0m\u001b[0;34m[\u001b[0m\u001b[0;34m[\u001b[0m\u001b[0;36m358\u001b[0m\u001b[0;34m,\u001b[0m \u001b[0;36m359\u001b[0m\u001b[0;34m,\u001b[0m \u001b[0;36m360\u001b[0m\u001b[0;34m]\u001b[0m\u001b[0;34m]\u001b[0m\u001b[0;34m\u001b[0m\u001b[0m\n\u001b[1;32m      5\u001b[0m \u001b[0mgroup4\u001b[0m \u001b[0;34m=\u001b[0m \u001b[0mdf\u001b[0m\u001b[0;34m[\u001b[0m\u001b[0mdf\u001b[0m\u001b[0;34m[\u001b[0m\u001b[0;36m361\u001b[0m\u001b[0;34m]\u001b[0m\u001b[0;34m==\u001b[0m \u001b[0;36m4\u001b[0m\u001b[0;34m]\u001b[0m\u001b[0;34m[\u001b[0m\u001b[0;34m[\u001b[0m\u001b[0;36m358\u001b[0m\u001b[0;34m,\u001b[0m \u001b[0;36m359\u001b[0m\u001b[0;34m,\u001b[0m \u001b[0;36m360\u001b[0m\u001b[0;34m]\u001b[0m\u001b[0;34m]\u001b[0m\u001b[0;34m\u001b[0m\u001b[0m\n",
      "\u001b[0;31mNameError\u001b[0m: name 'df' is not defined"
     ]
    }
   ],
   "source": [
    "group0 = df[df[361]== 0][[358, 359, 360]]\n",
    "group1 = df[df[361]== 1][[358, 359, 360]]\n",
    "group2 = df[df[361]== 2][[358, 359, 360]]\n",
    "group3 = df[df[361]== 3][[358, 359, 360]]\n",
    "group4 = df[df[361]== 4][[358, 359, 360]]\n"
   ]
  },
  {
   "cell_type": "code",
   "execution_count": null,
   "metadata": {
    "collapsed": true
   },
   "outputs": [],
   "source": [
    "%matplotlib inline\n",
    "from mpl_toolkits.mplot3d import Axes3D\n",
    "\n",
    "fig3d = plt.figure(figsize=(8, 8))\n",
    "ax = fig3d.add_subplot(111, projection='3d')\n",
    "\n",
    "p = ax.scatter(group0[358], group0[359], group0[360], color='seagreen', alpha=0.4, label='Group 0')\n",
    "p = ax.scatter(group1[358], group1[359], group1[360], color='blue', alpha=0.4, label='Group 1')\n",
    "p = ax.scatter(group2[358], group2[359], group2[360], color='yellow', alpha=0.4, label='Group 2')\n",
    "p = ax.scatter(group3[358], group3[359], group3[360], color='purple', alpha=0.4, label='Group 3')\n",
    "p = ax.scatter(group4[358], group4[359], group4[360], color='pink', alpha=0.4, label='Group 4')\n",
    "ax.set_xlabel('comp 1')\n",
    "ax.set_ylabel('comp 2')\n",
    "ax.set_zlabel('comp 3')\n",
    "\n",
    "ax.legend()\n",
    "fig3d.tight_layout()"
   ]
  },
  {
   "cell_type": "markdown",
   "metadata": {},
   "source": [
    "#"
   ]
  },
  {
   "cell_type": "code",
   "execution_count": null,
   "metadata": {
    "collapsed": true
   },
   "outputs": [],
   "source": [
    "X = full_pipeline.fit_transform(dfAll)"
   ]
  },
  {
   "cell_type": "code",
   "execution_count": null,
   "metadata": {
    "collapsed": true
   },
   "outputs": [],
   "source": [
    "pca = PCA(n_components=19).fit(X)\n",
    "x19 = pca.transform(X)\n",
    "x19.shape"
   ]
  },
  {
   "cell_type": "code",
   "execution_count": null,
   "metadata": {
    "collapsed": true
   },
   "outputs": [],
   "source": [
    "y.shape"
   ]
  },
  {
   "cell_type": "code",
   "execution_count": null,
   "metadata": {
    "collapsed": true
   },
   "outputs": [],
   "source": []
  },
  {
   "cell_type": "code",
   "execution_count": null,
   "metadata": {
    "collapsed": true
   },
   "outputs": [],
   "source": [
    "from sklearn.cluster import KMeans"
   ]
  },
  {
   "cell_type": "code",
   "execution_count": null,
   "metadata": {
    "collapsed": true
   },
   "outputs": [],
   "source": [
    "def test(data, nClusterRange):\n",
    "    inertias = np.zeros(len(nClusterRange))\n",
    "    for i in range(len(nClusterRange)):\n",
    "        model = KMeans(n_clusters=i+1, init='k-means++').fit(data)\n",
    "        inertias[i] = model.inertia_\n",
    "    return inertias"
   ]
  },
  {
   "cell_type": "code",
   "execution_count": null,
   "metadata": {
    "collapsed": true
   },
   "outputs": [],
   "source": [
    "import numpy as np\n",
    "kRange = range(1,12)\n",
    "KmeanTopics = test(X, kRange)\n",
    "figInertiaWithK = plt.figure(figsize=(8,6))\n",
    "\n",
    "plt.plot(kRange, KmeanTopics, 'o-', color='seagreen', linewidth=3)\n",
    "plt.xlabel('k [# of clusters]', size=12)\n",
    "plt.ylabel('Inertia', size=12)\n",
    "plt.title('Inertia vs KMean Parameter', size=14)\n",
    "\n"
   ]
  },
  {
   "cell_type": "code",
   "execution_count": null,
   "metadata": {
    "collapsed": true
   },
   "outputs": [],
   "source": [
    "km = KMeans(n_clusters=5, random_state=0)\n",
    "km.fit_transform(X)\n",
    "cluster_labels = km.labels_"
   ]
  },
  {
   "cell_type": "code",
   "execution_count": null,
   "metadata": {
    "collapsed": true
   },
   "outputs": [],
   "source": [
    "cluster_labels.shape"
   ]
  },
  {
   "cell_type": "code",
   "execution_count": null,
   "metadata": {
    "collapsed": true
   },
   "outputs": [],
   "source": [
    "dfNew = dfAll.copy()"
   ]
  },
  {
   "cell_type": "code",
   "execution_count": null,
   "metadata": {
    "collapsed": true
   },
   "outputs": [],
   "source": [
    "dfNew['c_label'] = cluster_labels"
   ]
  },
  {
   "cell_type": "code",
   "execution_count": null,
   "metadata": {
    "collapsed": true
   },
   "outputs": [],
   "source": [
    "group0 = dfNew[dfNew.c_label == 0]\n",
    "group1 = dfNew[dfNew.c_label == 1]\n",
    "group2 = dfNew[dfNew.c_label == 2]\n",
    "group3 = dfNew[dfNew.c_label == 3]\n",
    "group4 = dfNew[dfNew.c_label == 4]\n"
   ]
  },
  {
   "cell_type": "code",
   "execution_count": null,
   "metadata": {
    "collapsed": true
   },
   "outputs": [],
   "source": [
    "group0.groupby('Type').AdoptionSpeed.value_counts()"
   ]
  },
  {
   "cell_type": "code",
   "execution_count": null,
   "metadata": {
    "collapsed": true
   },
   "outputs": [],
   "source": [
    "group0.groupby('Type')[corr_num_cols].agg(['min','max','mean'])"
   ]
  },
  {
   "cell_type": "code",
   "execution_count": null,
   "metadata": {
    "collapsed": true
   },
   "outputs": [],
   "source": [
    "group1.groupby('Type')[corr_num_cols].agg(['min','max','mean'])"
   ]
  },
  {
   "cell_type": "code",
   "execution_count": null,
   "metadata": {
    "collapsed": true
   },
   "outputs": [],
   "source": [
    "group2.groupby('Type')[corr_num_cols].agg(['min','max','mean'])"
   ]
  },
  {
   "cell_type": "code",
   "execution_count": null,
   "metadata": {
    "collapsed": true
   },
   "outputs": [],
   "source": [
    "group4.groupby('Type')[corr_num_cols].agg(['min','max','mean'])"
   ]
  },
  {
   "cell_type": "code",
   "execution_count": null,
   "metadata": {
    "collapsed": true
   },
   "outputs": [],
   "source": [
    "group1.groupby('Type').AdoptionSpeed.value_counts()"
   ]
  },
  {
   "cell_type": "code",
   "execution_count": null,
   "metadata": {
    "collapsed": true
   },
   "outputs": [],
   "source": [
    "group2.groupby('Type').AdoptionSpeed.value_counts()"
   ]
  },
  {
   "cell_type": "code",
   "execution_count": null,
   "metadata": {
    "collapsed": true
   },
   "outputs": [],
   "source": [
    "group3.groupby('Type').AdoptionSpeed.value_counts()"
   ]
  },
  {
   "cell_type": "code",
   "execution_count": null,
   "metadata": {
    "collapsed": true
   },
   "outputs": [],
   "source": [
    "group4.groupby('Type').AdoptionSpeed.value_counts()"
   ]
  }
 ],
 "metadata": {
  "kernelspec": {
   "display_name": "Python 3",
   "language": "python",
   "name": "python3"
  },
  "language_info": {
   "codemirror_mode": {
    "name": "ipython",
    "version": 3
   },
   "file_extension": ".py",
   "mimetype": "text/x-python",
   "name": "python",
   "nbconvert_exporter": "python",
   "pygments_lexer": "ipython3",
   "version": "3.6.1"
  }
 },
 "nbformat": 4,
 "nbformat_minor": 2
}
